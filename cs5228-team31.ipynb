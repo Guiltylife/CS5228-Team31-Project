{
 "metadata": {
  "kernelspec": {
   "language": "python",
   "display_name": "Python 3",
   "name": "python3"
  },
  "language_info": {
   "pygments_lexer": "ipython3",
   "nbconvert_exporter": "python",
   "version": "3.6.4",
   "file_extension": ".py",
   "codemirror_mode": {
    "name": "ipython",
    "version": 3
   },
   "name": "python",
   "mimetype": "text/x-python"
  }
 },
 "nbformat_minor": 4,
 "nbformat": 4,
 "cells": [
  {
   "cell_type": "code",
   "source": [
    "import numpy as np # linear algebra\n",
    "import pandas as pd # data processing, CSV file I/O (e.g. pd.read_csv)\n",
    "import matplotlib.pyplot as plt\n",
    "# %matplotlib widget\n",
    "import seaborn as sns\n",
    "import plotly.express as px\n",
    "\n",
    "import folium\n",
    "from folium.plugins import HeatMap\n",
    "\n",
    "from wordcloud import WordCloud\n",
    "from sklearn import metrics\n",
    "from sklearn.model_selection import train_test_split, cross_val_score\n",
    "from sklearn.linear_model import LinearRegression\n",
    "from sklearn.tree import DecisionTreeRegressor\n",
    "from sklearn.ensemble import RandomForestRegressor\n",
    "from sklearn.svm import SVR\n",
    "from sklearn.metrics import r2_score, mean_absolute_error, mean_squared_error\n",
    "\n",
    "from scipy.stats import probplot\n",
    "import pylab\n",
    "\n",
    "import statsmodels.api as sm\n",
    "\n",
    "import warnings\n",
    "warnings.filterwarnings('ignore')\n",
    "\n",
    "# import os\n",
    "# for dirname, _, filenames in os.walk('/kaggle/input'):\n",
    "#     for filename in filenames:\n",
    "#         print(os.path.join(dirname, filename))"
   ],
   "metadata": {
    "_uuid": "8f2839f25d086af736a60e9eeb907d3b93b6e0e5",
    "_cell_guid": "b1076dfc-b9ad-4769-8c92-a6c4dae69d19",
    "execution": {
     "iopub.status.busy": "2023-10-06T14:19:06.491313Z",
     "iopub.execute_input": "2023-10-06T14:19:06.491916Z",
     "iopub.status.idle": "2023-10-06T14:19:06.501622Z",
     "shell.execute_reply.started": "2023-10-06T14:19:06.491881Z",
     "shell.execute_reply": "2023-10-06T14:19:06.500678Z"
    },
    "trusted": true,
    "ExecuteTime": {
     "end_time": "2023-10-07T08:43:46.386679200Z",
     "start_time": "2023-10-07T08:43:44.233046700Z"
    }
   },
   "execution_count": 1,
   "outputs": [
    {
     "ename": "ModuleNotFoundError",
     "evalue": "No module named 'folium'",
     "output_type": "error",
     "traceback": [
      "\u001B[1;31m---------------------------------------------------------------------------\u001B[0m",
      "\u001B[1;31mModuleNotFoundError\u001B[0m                       Traceback (most recent call last)",
      "Cell \u001B[1;32mIn[1], line 8\u001B[0m\n\u001B[0;32m      5\u001B[0m \u001B[38;5;28;01mimport\u001B[39;00m \u001B[38;5;21;01mseaborn\u001B[39;00m \u001B[38;5;28;01mas\u001B[39;00m \u001B[38;5;21;01msns\u001B[39;00m\n\u001B[0;32m      6\u001B[0m \u001B[38;5;28;01mimport\u001B[39;00m \u001B[38;5;21;01mplotly\u001B[39;00m\u001B[38;5;21;01m.\u001B[39;00m\u001B[38;5;21;01mexpress\u001B[39;00m \u001B[38;5;28;01mas\u001B[39;00m \u001B[38;5;21;01mpx\u001B[39;00m\n\u001B[1;32m----> 8\u001B[0m \u001B[38;5;28;01mimport\u001B[39;00m \u001B[38;5;21;01mfolium\u001B[39;00m\n\u001B[0;32m      9\u001B[0m \u001B[38;5;28;01mfrom\u001B[39;00m \u001B[38;5;21;01mfolium\u001B[39;00m\u001B[38;5;21;01m.\u001B[39;00m\u001B[38;5;21;01mplugins\u001B[39;00m \u001B[38;5;28;01mimport\u001B[39;00m HeatMap\n\u001B[0;32m     11\u001B[0m \u001B[38;5;28;01mfrom\u001B[39;00m \u001B[38;5;21;01mwordcloud\u001B[39;00m \u001B[38;5;28;01mimport\u001B[39;00m WordCloud\n",
      "\u001B[1;31mModuleNotFoundError\u001B[0m: No module named 'folium'"
     ]
    }
   ]
  },
  {
   "cell_type": "markdown",
   "source": [
    "# 0. Import Data"
   ],
   "metadata": {}
  },
  {
   "cell_type": "markdown",
   "source": [
    "## 0.1 Datasets Path"
   ],
   "metadata": {}
  },
  {
   "cell_type": "code",
   "source": [
    "# For local\n",
    "# train_data_path = './dataset/train.csv'\n",
    "# test_data_path = './dataset/test.csv'\n",
    "# coe_price_data_path = './dataset/auxiliary-data/sg-coe-prices.csv'\n",
    "# mrt_exist_data_path = './dataset/auxiliary-data/sg-mrt-existing-stations.csv'\n",
    "# mrt_planned_data_path = './dataset/auxiliary-data/sg-mrt-planned-stations.csv'\n",
    "# primary_school_data_path = './dataset/auxiliary-data/sg-primary-schools.csv'\n",
    "# mall_data_path = './dataset/auxiliary-data/sg-shopping-malls.csv'\n",
    "# stock_price_data_path = './dataset/auxiliary-data/sg-stock-prices.csv'\n",
    "\n",
    "# For online\n",
    "train_data_path = '/kaggle/input/cs5228-team31-dataset/train.csv'\n",
    "test_data_path = '/kaggle/input/cs5228-team31-dataset/test.csv'\n",
    "# submission_rent_path = '/kaggle/input/cs5228-team31-dataset/example-submission.csv'\n",
    "coe_price_data_path = '/kaggle/input/cs5228-team31-dataset/sg-coe-prices.csv'\n",
    "mrt_exist_data_path = '/kaggle/input/cs5228-team31-dataset/sg-mrt-existing-stations.csv'\n",
    "mrt_planned_data_path = '/kaggle/input/cs5228-team31-dataset/sg-mrt-planned-stations.csv'\n",
    "primary_school_data_path = '/kaggle/input/cs5228-team31-dataset/sg-primary-schools.csv'\n",
    "mall_data_path = '/kaggle/input/cs5228-team31-dataset/sg-shopping-malls.csv'\n",
    "stock_price_data_path = '/kaggle/input/cs5228-team31-dataset/sg-stock-prices.csv'"
   ],
   "metadata": {
    "collapsed": false,
    "ExecuteTime": {
     "end_time": "2023-09-14T16:00:45.989160300Z",
     "start_time": "2023-09-14T16:00:45.974108800Z"
    },
    "execution": {
     "iopub.status.busy": "2023-10-06T14:19:06.503127Z",
     "iopub.execute_input": "2023-10-06T14:19:06.503595Z",
     "iopub.status.idle": "2023-10-06T14:19:06.521423Z",
     "shell.execute_reply.started": "2023-10-06T14:19:06.503568Z",
     "shell.execute_reply": "2023-10-06T14:19:06.519997Z"
    },
    "trusted": true
   },
   "execution_count": null,
   "outputs": []
  },
  {
   "cell_type": "markdown",
   "source": [
    "## 0.2 Load Data"
   ],
   "metadata": {}
  },
  {
   "cell_type": "code",
   "source": [
    "train_data = pd.read_csv(train_data_path)\n",
    "test_data = pd.read_csv(test_data_path)\n",
    "# test_rent_col = pd.read_csv(submission_rent_path)\n",
    "coe_price_data = pd.read_csv(coe_price_data_path)\n",
    "mrt_exist_data = pd.read_csv(mrt_exist_data_path)\n",
    "mrt_planned_data = pd.read_csv(mrt_planned_data_path)\n",
    "primary_school_data = pd.read_csv(primary_school_data_path)\n",
    "mall_data = pd.read_csv(mall_data_path)\n",
    "stock_price_data = pd.read_csv(stock_price_data_path)"
   ],
   "metadata": {
    "ExecuteTime": {
     "end_time": "2023-09-14T16:00:46.100546600Z",
     "start_time": "2023-09-14T16:00:45.989160300Z"
    },
    "execution": {
     "iopub.status.busy": "2023-10-06T14:19:06.523198Z",
     "iopub.execute_input": "2023-10-06T14:19:06.523625Z",
     "iopub.status.idle": "2023-10-06T14:19:06.847674Z",
     "shell.execute_reply.started": "2023-10-06T14:19:06.523586Z",
     "shell.execute_reply": "2023-10-06T14:19:06.846417Z"
    },
    "trusted": true
   },
   "execution_count": null,
   "outputs": []
  },
  {
   "cell_type": "code",
   "source": [
    "print(train_data.shape, test_data.shape)"
   ],
   "metadata": {
    "execution": {
     "iopub.status.busy": "2023-10-06T14:19:06.849968Z",
     "iopub.execute_input": "2023-10-06T14:19:06.850311Z",
     "iopub.status.idle": "2023-10-06T14:19:06.857142Z",
     "shell.execute_reply.started": "2023-10-06T14:19:06.850284Z",
     "shell.execute_reply": "2023-10-06T14:19:06.855575Z"
    },
    "trusted": true
   },
   "execution_count": null,
   "outputs": []
  },
  {
   "cell_type": "markdown",
   "source": [
    "# 1. Cleaning"
   ],
   "metadata": {}
  },
  {
   "cell_type": "code",
   "source": [
    "train_data['flat_type'] = train_data['flat_type'].str.replace(\"-\", \" \")\n",
    "train_data.head()"
   ],
   "metadata": {
    "ExecuteTime": {
     "end_time": "2023-09-14T16:00:46.186846300Z",
     "start_time": "2023-09-14T16:00:46.100546600Z"
    },
    "execution": {
     "iopub.status.busy": "2023-10-06T14:19:06.859201Z",
     "iopub.execute_input": "2023-10-06T14:19:06.859773Z",
     "iopub.status.idle": "2023-10-06T14:19:06.921169Z",
     "shell.execute_reply.started": "2023-10-06T14:19:06.859704Z",
     "shell.execute_reply": "2023-10-06T14:19:06.919727Z"
    },
    "trusted": true
   },
   "execution_count": null,
   "outputs": []
  },
  {
   "cell_type": "markdown",
   "source": [
    "# 2. Encoding"
   ],
   "metadata": {}
  },
  {
   "cell_type": "markdown",
   "source": [
    "## 2.0 Encoding Functions\n",
    "The encoding functions we have now are: one-hot encoding, binary encoding(TODO), word embedding(TODO), normalization, dict mapping, function mapping, drop attribute."
   ],
   "metadata": {}
  },
  {
   "cell_type": "code",
   "source": [
    "def encode_one_hot(data: pd.DataFrame, column_name: str):\n",
    "    data = pd.get_dummies(data, columns=column_name)\n",
    "\n",
    "def encode_binary(data: pd.DataFrame, column_name: str):\n",
    "    categories = data[column_name].unique()\n",
    "    num_bits = len(categories).bit_length()\n",
    "    binary_encoding = {category: format(i, '0{0}b'.format(num_bits)) for i, category in enumerate(categories)}\n",
    "    data[column_name] = data[column_name].map(binary_encoding)\n",
    "\n",
    "def encode_word_embedding(data: pd.DataFrame, column_name: str):\n",
    "    # TODO\n",
    "    pass\n",
    "\n",
    "def encode_normalization(data: pd.DataFrame, column_name: str):\n",
    "    min_value = data[column_name].min()\n",
    "    max_value = data[column_name].max()\n",
    "\n",
    "    data[column_name] = (data[column_name] - min_value) / (max_value - min_value)\n",
    "\n",
    "def encode_dict_map(data: pd.DataFrame, column_name: str, transform_map: dict):\n",
    "    data[column_name] = data[column_name].map(transform_map)\n",
    "\n",
    "def encode_function_map(data: pd.DataFrame, column_name: str, transform_func):\n",
    "    data[column_name] = data[column_name].apply(transform_func)\n",
    "\n",
    "def encode_drop(data: pd.DataFrame, column_name: str):\n",
    "    data.drop(columns=[column_name], inplace=True)"
   ],
   "metadata": {
    "collapsed": false,
    "ExecuteTime": {
     "end_time": "2023-09-14T16:00:46.207918700Z",
     "start_time": "2023-09-14T16:00:46.180825Z"
    },
    "execution": {
     "iopub.status.busy": "2023-10-06T14:19:06.923530Z",
     "iopub.execute_input": "2023-10-06T14:19:06.923982Z",
     "iopub.status.idle": "2023-10-06T14:19:06.938772Z",
     "shell.execute_reply.started": "2023-10-06T14:19:06.923944Z",
     "shell.execute_reply": "2023-10-06T14:19:06.937117Z"
    },
    "trusted": true
   },
   "execution_count": null,
   "outputs": []
  },
  {
   "cell_type": "markdown",
   "source": [
    "## 2.1 Attribute: rent_approval_date\n",
    "There are two ways to encode this attribute. First is function mapping, according to the function \"year*10+month\". Second is drop the attribute, since this attribute may be replaced by \"lease commence date\" or the stock amount. For now, I use the first way.\n",
    "\n",
    "TODO: Consider the second way and see if there will be any improvement or not."
   ],
   "metadata": {}
  },
  {
   "cell_type": "code",
   "source": [
    "def transform_func_date(value):\n",
    "    splits = value.split('-')\n",
    "    return int(splits[0]) * 100 + int(splits[1])\n",
    "\n",
    "encode_function_map(train_data, 'rent_approval_date', transform_func_date)\n",
    "encode_function_map(test_data, 'rent_approval_date', transform_func_date)\n",
    "# encode_drop(train_data, 'rent_approval_date')\n",
    "train_data.head()\n",
    "test_data.head()"
   ],
   "metadata": {
    "collapsed": false,
    "ExecuteTime": {
     "end_time": "2023-09-14T16:00:46.243040700Z",
     "start_time": "2023-09-14T16:00:46.196880600Z"
    },
    "execution": {
     "iopub.status.busy": "2023-10-06T14:19:06.940533Z",
     "iopub.execute_input": "2023-10-06T14:19:06.941046Z",
     "iopub.status.idle": "2023-10-06T14:19:07.057230Z",
     "shell.execute_reply.started": "2023-10-06T14:19:06.941016Z",
     "shell.execute_reply": "2023-10-06T14:19:07.055727Z"
    },
    "trusted": true
   },
   "execution_count": null,
   "outputs": []
  },
  {
   "cell_type": "markdown",
   "source": [
    "## 2.2 Attribute: town\n",
    "There are four ways to encode this attribute. First is one-hot encoding. But there are 26 categories in this atribute. Second is binary encoding. Third is word embedding. Forth is drop this attribute, since this attribute may be replaced by \"subzone-planning area-region\" or \"latitude-longitude\". For now, I choose the second way.\n",
    "\n",
    "TODO: Consider the forth way."
   ],
   "metadata": {}
  },
  {
   "cell_type": "code",
   "source": [
    "# encode_one_hot(train_data, 'town')\n",
    "encode_binary(train_data, 'town')\n",
    "encode_binary(test_data, 'town')\n",
    "# encode_word_embedding(train_data, 'town')\n",
    "# encode_drop(train_data, 'town')\n",
    "train_data.head()\n",
    "test_data.head()"
   ],
   "metadata": {
    "collapsed": false,
    "ExecuteTime": {
     "end_time": "2023-09-14T16:00:46.329339700Z",
     "start_time": "2023-09-14T16:00:46.228992100Z"
    },
    "execution": {
     "iopub.status.busy": "2023-10-06T14:19:07.058878Z",
     "iopub.execute_input": "2023-10-06T14:19:07.060388Z",
     "iopub.status.idle": "2023-10-06T14:19:07.092671Z",
     "shell.execute_reply.started": "2023-10-06T14:19:07.060346Z",
     "shell.execute_reply": "2023-10-06T14:19:07.091501Z"
    },
    "trusted": true
   },
   "execution_count": null,
   "outputs": []
  },
  {
   "cell_type": "markdown",
   "source": [
    "## 2.3 Attribute: block\n",
    "There are two ways to encode. Since there are a lot of catigories in this attribute, I don't think it is a good idea to use one-hot encoding. And, since the value is not words, I don't think it have any semantic info and can be encoded by word embedding. So, first way is binary encoding. Second way is drop attribute, similar to attribute \"town\". For now, I choose the forth way.\n",
    "\n",
    "TODO: Consider the second way."
   ],
   "metadata": {}
  },
  {
   "cell_type": "code",
   "source": [
    "# encode_binary(train_data, 'block')\n",
    "encode_drop(train_data, 'block')\n",
    "encode_drop(test_data, 'block')\n",
    "train_data.head()"
   ],
   "metadata": {
    "execution": {
     "iopub.status.busy": "2023-10-06T14:19:07.096033Z",
     "iopub.execute_input": "2023-10-06T14:19:07.096371Z",
     "iopub.status.idle": "2023-10-06T14:19:07.127238Z",
     "shell.execute_reply.started": "2023-10-06T14:19:07.096345Z",
     "shell.execute_reply": "2023-10-06T14:19:07.126007Z"
    },
    "trusted": true
   },
   "execution_count": null,
   "outputs": []
  },
  {
   "cell_type": "markdown",
   "source": [
    "## 2.4 Attribute: street name\n",
    "There are three ways to encode. Similar to attribute \"block\", this attribute is not suitable for one-hot encoding. So, first way is binary encoding. Second way is word embedding, since the value in this attribute have semantic info. Third way is drop attribute, similar to attribute \"town\". For now, I choose the forth way.\n",
    "\n",
    "TODO: Consider the forth way."
   ],
   "metadata": {}
  },
  {
   "cell_type": "code",
   "source": [
    "# encode_binary(train_data, 'street_name')\n",
    "# encode_word_embedding(train_data, 'street_name')\n",
    "encode_drop(train_data, 'street_name')\n",
    "encode_drop(test_data, 'street_name')\n",
    "train_data.head()\n",
    "test_data.head()"
   ],
   "metadata": {
    "execution": {
     "iopub.status.busy": "2023-10-06T14:19:07.128982Z",
     "iopub.execute_input": "2023-10-06T14:19:07.129697Z",
     "iopub.status.idle": "2023-10-06T14:19:07.159486Z",
     "shell.execute_reply.started": "2023-10-06T14:19:07.129655Z",
     "shell.execute_reply": "2023-10-06T14:19:07.158365Z"
    },
    "trusted": true
   },
   "execution_count": null,
   "outputs": []
  },
  {
   "cell_type": "markdown",
   "source": [
    "## 2.5 Attribute: flat type\n",
    "There are three ways to encode. First is one-hot encoding since only 5 catagories in this attribute. Second is binary encoding. Third is dict mapping to map the type into number in order. For now, I choose the third way.\n",
    "\n",
    "TODO: Change the map value"
   ],
   "metadata": {}
  },
  {
   "cell_type": "code",
   "source": [
    "# encode_one_hot(train_data, 'flat_type')\n",
    "# encode_binary(train_data, 'flat_type')\n",
    "flat_type_mapping_dict = {'2 room': 2, '3 room': 3, '4 room': 4, '5 room': 5, 'executive': 6,\n",
    "                         '2-room': 2, '3-room': 3, '4-room': 4, '5-room': 5}\n",
    "encode_dict_map(train_data, 'flat_type', flat_type_mapping_dict)\n",
    "encode_dict_map(test_data, 'flat_type', flat_type_mapping_dict)\n",
    "train_data.head()\n",
    "test_data.head()"
   ],
   "metadata": {
    "execution": {
     "iopub.status.busy": "2023-10-06T14:19:07.160942Z",
     "iopub.execute_input": "2023-10-06T14:19:07.162283Z",
     "iopub.status.idle": "2023-10-06T14:19:07.189725Z",
     "shell.execute_reply.started": "2023-10-06T14:19:07.162233Z",
     "shell.execute_reply": "2023-10-06T14:19:07.188179Z"
    },
    "trusted": true
   },
   "execution_count": null,
   "outputs": []
  },
  {
   "cell_type": "markdown",
   "source": [
    "## 2.6 Attribute: flat model\n",
    "There are four ways to encode. First is one-hot encoding. But there are XX catagories in this attribute. Second is bianry encoding. Third is word embedding. Forth is drop attribute. For now, I choose the second way."
   ],
   "metadata": {}
  },
  {
   "cell_type": "code",
   "source": [
    "# encode_one_hot(train_data, 'flat_model')\n",
    "encode_binary(train_data, 'flat_model')\n",
    "encode_binary(test_data, 'flat_model')\n",
    "# encode_word_embedding(train_data, 'flat_model')\n",
    "# encode_drop(train_data, 'flat_model')\n",
    "train_data.head()\n",
    "test_data.head()"
   ],
   "metadata": {
    "execution": {
     "iopub.status.busy": "2023-10-06T14:19:07.191154Z",
     "iopub.execute_input": "2023-10-06T14:19:07.191921Z",
     "iopub.status.idle": "2023-10-06T14:19:07.225194Z",
     "shell.execute_reply.started": "2023-10-06T14:19:07.191882Z",
     "shell.execute_reply": "2023-10-06T14:19:07.223931Z"
    },
    "trusted": true
   },
   "execution_count": null,
   "outputs": []
  },
  {
   "cell_type": "markdown",
   "source": [
    "## 2.7 Attribute: floor area sqm\n",
    "The value in this attribute is number. So we can use it directly or use it after normalization. For now, I use the normalization."
   ],
   "metadata": {}
  },
  {
   "cell_type": "code",
   "source": [
    "encode_normalization(train_data, 'floor_area_sqm')\n",
    "encode_normalization(test_data, 'floor_area_sqm')\n",
    "train_data.head()\n",
    "test_data.head()"
   ],
   "metadata": {
    "execution": {
     "iopub.status.busy": "2023-10-06T14:19:07.226303Z",
     "iopub.execute_input": "2023-10-06T14:19:07.227435Z",
     "iopub.status.idle": "2023-10-06T14:19:07.246585Z",
     "shell.execute_reply.started": "2023-10-06T14:19:07.227402Z",
     "shell.execute_reply": "2023-10-06T14:19:07.245384Z"
    },
    "trusted": true
   },
   "execution_count": null,
   "outputs": []
  },
  {
   "cell_type": "markdown",
   "source": [
    "## 2.7 Attribute: furnished\n",
    "There are two way to encode. First is dict mapping. It map \"yes\" to True and \"no\" to False. However, since the value of this attribute for all data is \"yes\", the second way is drop attribute. For now, I choose the second way."
   ],
   "metadata": {}
  },
  {
   "cell_type": "code",
   "source": [
    "# furnished_mapping_dict = {'no': False, 'yes': True}\n",
    "# encode_dict_map(train_data, 'furnished', {'no': False, 'yes': True})\n",
    "encode_drop(train_data, 'furnished')\n",
    "encode_drop(test_data, 'furnished')\n",
    "train_data.head()\n",
    "test_data.head()"
   ],
   "metadata": {
    "execution": {
     "iopub.status.busy": "2023-10-06T14:19:07.248138Z",
     "iopub.execute_input": "2023-10-06T14:19:07.248717Z",
     "iopub.status.idle": "2023-10-06T14:19:07.279814Z",
     "shell.execute_reply.started": "2023-10-06T14:19:07.248689Z",
     "shell.execute_reply": "2023-10-06T14:19:07.278666Z"
    },
    "trusted": true
   },
   "execution_count": null,
   "outputs": []
  },
  {
   "cell_type": "markdown",
   "source": [
    "## 2.8 Attribute: lease commence date\n",
    "Similar to attribute \"rent_approval_date\". There are two ways to encode this attribute. First is use directly. Second is drop the attribute, since this attribute may be replaced by \"rent_approval_date\" or the stock amount. For now, I use the first way.\n",
    "\n",
    "TODO: Consider the second way and see if there will be any improvement or not."
   ],
   "metadata": {}
  },
  {
   "cell_type": "code",
   "source": [
    "# encode_drop(train_data, 'lease_commence_date')\n",
    "train_data.head()"
   ],
   "metadata": {
    "execution": {
     "iopub.status.busy": "2023-10-06T14:19:07.281491Z",
     "iopub.execute_input": "2023-10-06T14:19:07.282199Z",
     "iopub.status.idle": "2023-10-06T14:19:07.302056Z",
     "shell.execute_reply.started": "2023-10-06T14:19:07.282158Z",
     "shell.execute_reply": "2023-10-06T14:19:07.300611Z"
    },
    "trusted": true
   },
   "execution_count": null,
   "outputs": []
  },
  {
   "cell_type": "markdown",
   "source": [
    "## 2.9 Attribute: latitude & longitude\n",
    "The value in these attributes are number. So we can use them directly or use them after normalization. In addition, we can also consider to drop these attributes and replace them by the distance to public facilities. For now, I choose normalization and keep these attributes."
   ],
   "metadata": {}
  },
  {
   "cell_type": "code",
   "source": [
    "encode_normalization(train_data, 'latitude')\n",
    "encode_normalization(train_data, 'longitude')\n",
    "\n",
    "encode_normalization(test_data, 'latitude')\n",
    "encode_normalization(test_data, 'longitude')\n",
    "train_data.head()\n",
    "test_data.head()"
   ],
   "metadata": {
    "execution": {
     "iopub.status.busy": "2023-10-06T14:19:07.303796Z",
     "iopub.execute_input": "2023-10-06T14:19:07.304567Z",
     "iopub.status.idle": "2023-10-06T14:19:07.329695Z",
     "shell.execute_reply.started": "2023-10-06T14:19:07.304524Z",
     "shell.execute_reply": "2023-10-06T14:19:07.328576Z"
    },
    "trusted": true
   },
   "execution_count": null,
   "outputs": []
  },
  {
   "cell_type": "markdown",
   "source": [
    "## 2.10 Attribute: elevation\n",
    "Similar to attribute \"furnished\". For now, I decide to drop this attribute."
   ],
   "metadata": {}
  },
  {
   "cell_type": "code",
   "source": [
    "encode_drop(train_data, 'elevation')\n",
    "encode_drop(test_data, 'elevation')\n",
    "train_data.head()\n",
    "test_data.head()"
   ],
   "metadata": {
    "execution": {
     "iopub.status.busy": "2023-10-06T14:19:07.331844Z",
     "iopub.execute_input": "2023-10-06T14:19:07.332287Z",
     "iopub.status.idle": "2023-10-06T14:19:07.357123Z",
     "shell.execute_reply.started": "2023-10-06T14:19:07.332249Z",
     "shell.execute_reply": "2023-10-06T14:19:07.356370Z"
    },
    "trusted": true
   },
   "execution_count": null,
   "outputs": []
  },
  {
   "cell_type": "markdown",
   "source": [
    "## 2.11 Attribute: subzone\n",
    "There are three ways to encode. Since there are a lot of catigories in this attribute, I don't think it is a good idea to use one-hot encoding. So, first way is binary encoding. Second way is word embedding. Third way is drop attribute, since this attribute may be replaced by \"town-block-street_name\" or \"latitude-longitude\". For now, I choose the third way.\n",
    "\n",
    "TODO: Consider the third way."
   ],
   "metadata": {}
  },
  {
   "cell_type": "code",
   "source": [
    "# encode_binary(train_data, 'subzone')\n",
    "# encode_word_embedding(train_data, 'subzone')\n",
    "encode_drop(train_data, 'subzone')\n",
    "encode_drop(test_data, 'subzone')\n",
    "train_data.head()\n",
    "test_data.head()"
   ],
   "metadata": {
    "execution": {
     "iopub.status.busy": "2023-10-06T14:19:07.358432Z",
     "iopub.execute_input": "2023-10-06T14:19:07.358935Z",
     "iopub.status.idle": "2023-10-06T14:19:07.379735Z",
     "shell.execute_reply.started": "2023-10-06T14:19:07.358907Z",
     "shell.execute_reply": "2023-10-06T14:19:07.378557Z"
    },
    "trusted": true
   },
   "execution_count": null,
   "outputs": []
  },
  {
   "cell_type": "markdown",
   "source": [
    "## 2.12 Attribute: planning area\n",
    "There are four ways to encode. First way is one-hot encoding. But there are 29 catagories in this attribute. Second is binary encoding. Third way is word embedding. Forth way is drop attribute, similar to attribute \"subzone\". For now, I choose the second way.\n",
    "\n",
    "TODO: Consider the forth way."
   ],
   "metadata": {}
  },
  {
   "cell_type": "code",
   "source": [
    "# encode_one_hot(train_data, 'planning_area')\n",
    "encode_binary(train_data, 'planning_area')\n",
    "encode_binary(test_data, 'planning_area')\n",
    "# encode_word_embedding(train_data, 'planning_area')\n",
    "# encode_drop(train_data, 'planning_area')\n",
    "train_data.head()\n",
    "test_data.head()"
   ],
   "metadata": {
    "execution": {
     "iopub.status.busy": "2023-10-06T14:19:07.381708Z",
     "iopub.execute_input": "2023-10-06T14:19:07.382393Z",
     "iopub.status.idle": "2023-10-06T14:19:07.414030Z",
     "shell.execute_reply.started": "2023-10-06T14:19:07.382354Z",
     "shell.execute_reply": "2023-10-06T14:19:07.412726Z"
    },
    "trusted": true
   },
   "execution_count": null,
   "outputs": []
  },
  {
   "cell_type": "markdown",
   "source": [
    "## 2.13 Attribute: region\n",
    "There are three ways to encode. First is one-hot encoding since there are only 5 catagories in this attribute. Second is binary encoding. Third is drop attribute, similar to attribute \"subzone\". For now, I choose second way.\n",
    "\n",
    "TODO: Consider the third way."
   ],
   "metadata": {}
  },
  {
   "cell_type": "code",
   "source": [
    "# encode_one_hot(train_data, 'region')\n",
    "encode_binary(train_data, 'region')\n",
    "encode_binary(test_data, 'region')\n",
    "# encode_drop(train_data, 'region')\n",
    "train_data.head()\n",
    "test_data.head()"
   ],
   "metadata": {
    "execution": {
     "iopub.status.busy": "2023-10-06T14:19:07.415576Z",
     "iopub.execute_input": "2023-10-06T14:19:07.415945Z",
     "iopub.status.idle": "2023-10-06T14:19:07.446460Z",
     "shell.execute_reply.started": "2023-10-06T14:19:07.415916Z",
     "shell.execute_reply": "2023-10-06T14:19:07.445473Z"
    },
    "trusted": true
   },
   "execution_count": null,
   "outputs": []
  },
  {
   "cell_type": "markdown",
   "source": [
    "## 2.14 Attribute: monthly rent\n",
    "The value in this attribute is number. So we can use it directly or use it after normalization. For now, I use the normalization."
   ],
   "metadata": {}
  },
  {
   "cell_type": "code",
   "source": [
    "# encode_normalization(train_data, 'monthly_rent')\n",
    "# train_data.head()\n",
    "# # test_data.head()"
   ],
   "metadata": {
    "execution": {
     "iopub.status.busy": "2023-10-06T14:19:07.447478Z",
     "iopub.execute_input": "2023-10-06T14:19:07.448432Z",
     "iopub.status.idle": "2023-10-06T14:19:07.452843Z",
     "shell.execute_reply.started": "2023-10-06T14:19:07.448401Z",
     "shell.execute_reply": "2023-10-06T14:19:07.451805Z"
    },
    "trusted": true
   },
   "execution_count": null,
   "outputs": []
  },
  {
   "cell_type": "markdown",
   "source": [
    "# 3. EDA - Main Data"
   ],
   "metadata": {}
  },
  {
   "cell_type": "markdown",
   "source": [
    "**General Info**"
   ],
   "metadata": {}
  },
  {
   "cell_type": "code",
   "source": [
    "train_data.info()"
   ],
   "metadata": {
    "ExecuteTime": {
     "end_time": "2023-09-14T16:00:47.348875400Z",
     "start_time": "2023-09-14T16:00:47.287663400Z"
    },
    "execution": {
     "iopub.status.busy": "2023-10-06T14:19:07.453872Z",
     "iopub.execute_input": "2023-10-06T14:19:07.454760Z",
     "iopub.status.idle": "2023-10-06T14:19:07.491073Z",
     "shell.execute_reply.started": "2023-10-06T14:19:07.454729Z",
     "shell.execute_reply": "2023-10-06T14:19:07.489654Z"
    },
    "trusted": true
   },
   "execution_count": null,
   "outputs": []
  },
  {
   "cell_type": "markdown",
   "source": [
    "**Descriptive Statistics**"
   ],
   "metadata": {}
  },
  {
   "cell_type": "code",
   "source": [
    "train_data.describe()"
   ],
   "metadata": {
    "ExecuteTime": {
     "end_time": "2023-09-14T16:00:47.362924100Z",
     "start_time": "2023-09-14T16:00:47.318770900Z"
    },
    "execution": {
     "iopub.status.busy": "2023-10-06T14:19:07.493020Z",
     "iopub.execute_input": "2023-10-06T14:19:07.494479Z",
     "iopub.status.idle": "2023-10-06T14:19:07.546972Z",
     "shell.execute_reply.started": "2023-10-06T14:19:07.494434Z",
     "shell.execute_reply": "2023-10-06T14:19:07.545872Z"
    },
    "trusted": true
   },
   "execution_count": null,
   "outputs": []
  },
  {
   "cell_type": "markdown",
   "source": [
    "**Visualization of General Info**"
   ],
   "metadata": {}
  },
  {
   "cell_type": "code",
   "source": [
    "sns.pairplot(train_data,height=2)\n",
    "plt.show()"
   ],
   "metadata": {
    "ExecuteTime": {
     "end_time": "2023-09-14T16:00:52.966355700Z",
     "start_time": "2023-09-14T16:00:47.350882300Z"
    },
    "execution": {
     "iopub.status.busy": "2023-10-06T14:19:07.553920Z",
     "iopub.execute_input": "2023-10-06T14:19:07.554319Z",
     "iopub.status.idle": "2023-10-06T14:19:26.697131Z",
     "shell.execute_reply.started": "2023-10-06T14:19:07.554291Z",
     "shell.execute_reply": "2023-10-06T14:19:26.695947Z"
    },
    "trusted": true
   },
   "execution_count": null,
   "outputs": []
  },
  {
   "cell_type": "markdown",
   "source": [
    "Observations\n",
    "* There is no null value for any column in the dataset.\n",
    "* The scale of numerical data varies significantly, remember to normalize before analysis\n",
    "* There are natural groups but not clear, further observation required"
   ],
   "metadata": {}
  },
  {
   "cell_type": "markdown",
   "source": [
    "**Univariate Analysis**"
   ],
   "metadata": {}
  },
  {
   "cell_type": "markdown",
   "source": [
    "Categorical - town & subarea"
   ],
   "metadata": {}
  },
  {
   "cell_type": "code",
   "source": [
    "# print(train_data['town'].unique().size, train_data['planning_area'].unique().size)"
   ],
   "metadata": {
    "ExecuteTime": {
     "end_time": "2023-09-14T16:00:52.983414900Z",
     "start_time": "2023-09-14T16:00:52.965352100Z"
    },
    "execution": {
     "iopub.status.busy": "2023-10-06T14:19:26.698710Z",
     "iopub.execute_input": "2023-10-06T14:19:26.699034Z",
     "iopub.status.idle": "2023-10-06T14:19:26.704010Z",
     "shell.execute_reply.started": "2023-10-06T14:19:26.699003Z",
     "shell.execute_reply": "2023-10-06T14:19:26.703126Z"
    },
    "trusted": true
   },
   "execution_count": null,
   "outputs": []
  },
  {
   "cell_type": "code",
   "source": [
    "# town_counts = train_data['town'].value_counts()\n",
    "# planning_area_counts = train_data['planning_area'].value_counts()\n",
    "\n",
    "\n",
    "\n",
    "# # Merge the two Series into a single DataFrame\n",
    "# combined_df = pd.DataFrame({'Town': town_counts, 'Planning Area': planning_area_counts}).fillna(0)\n",
    "\n",
    "# # Plotting\n",
    "# plt.figure(figsize=(20, 10))\n",
    "\n",
    "# # Width of a bar\n",
    "# width = 0.4\n",
    "\n",
    "# # Positions of bars on x axis\n",
    "# r1 = range(len(combined_df))\n",
    "# r2 = [x + width for x in r1]\n",
    "\n",
    "# # Creating bars\n",
    "# plt.bar(r1, combined_df['Town'], width=width, label='Town', color='blue', edgecolor='grey')\n",
    "# plt.bar(r2, combined_df['Planning Area'], width=width, label='Planning Area', color='red', edgecolor='grey')\n",
    "\n",
    "# # Title & Subtitle\n",
    "# plt.title('Comparing Town and Planning Area Counts', fontweight='bold')\n",
    "\n",
    "# # X axis\n",
    "# plt.xlabel('Areas', fontweight='bold')\n",
    "# plt.xticks([r + width for r in range(len(combined_df))], combined_df.index, rotation=90)\n",
    "\n",
    "# # Y axis\n",
    "# plt.ylabel('Counts', fontweight='bold')\n",
    "\n",
    "# # Show the legend\n",
    "# plt.legend()\n",
    "\n",
    "# # Display the plot\n",
    "# plt.tight_layout()\n",
    "# plt.show()\n"
   ],
   "metadata": {
    "ExecuteTime": {
     "end_time": "2023-09-14T16:00:53.284458600Z",
     "start_time": "2023-09-14T16:00:52.983414900Z"
    },
    "execution": {
     "iopub.status.busy": "2023-10-06T14:19:26.705180Z",
     "iopub.execute_input": "2023-10-06T14:19:26.706249Z",
     "iopub.status.idle": "2023-10-06T14:19:26.720520Z",
     "shell.execute_reply.started": "2023-10-06T14:19:26.706219Z",
     "shell.execute_reply": "2023-10-06T14:19:26.719577Z"
    },
    "trusted": true
   },
   "execution_count": null,
   "outputs": []
  },
  {
   "cell_type": "markdown",
   "source": [
    "Categorical - flat_type"
   ],
   "metadata": {}
  },
  {
   "cell_type": "code",
   "source": [
    "train_data['flat_type'].value_counts()"
   ],
   "metadata": {
    "ExecuteTime": {
     "end_time": "2023-09-14T16:00:53.457057300Z",
     "start_time": "2023-09-14T16:00:53.285462300Z"
    },
    "execution": {
     "iopub.status.busy": "2023-10-06T14:19:26.721782Z",
     "iopub.execute_input": "2023-10-06T14:19:26.723069Z",
     "iopub.status.idle": "2023-10-06T14:19:26.740827Z",
     "shell.execute_reply.started": "2023-10-06T14:19:26.723006Z",
     "shell.execute_reply": "2023-10-06T14:19:26.739779Z"
    },
    "trusted": true
   },
   "execution_count": null,
   "outputs": []
  },
  {
   "cell_type": "code",
   "source": [
    "sns.set_style('whitegrid')\n",
    "fig,axes = plt.subplots(figsize=(6,4))\n",
    "colors = ['#87ace8','#e3784d', '#6ecc64','#b644e3','#eb7c87']\n",
    "\n",
    "ax = sns.countplot(x='flat_type',data=train_data, palette=['#e3784d','#87ace8', '#6ecc64','#b644e3','#eb7c87'])\n",
    "for container in ax.containers:\n",
    "    ax.bar_label(container)\n",
    "plt.title('Frequency of different number of flat_type present in Houses available for Rent',fontsize=15)\n",
    "plt.show()"
   ],
   "metadata": {
    "ExecuteTime": {
     "end_time": "2023-09-14T16:00:53.515259100Z",
     "start_time": "2023-09-14T16:00:53.300514600Z"
    },
    "execution": {
     "iopub.status.busy": "2023-10-06T14:19:26.742256Z",
     "iopub.execute_input": "2023-10-06T14:19:26.743644Z",
     "iopub.status.idle": "2023-10-06T14:19:27.001332Z",
     "shell.execute_reply.started": "2023-10-06T14:19:26.743597Z",
     "shell.execute_reply": "2023-10-06T14:19:26.999874Z"
    },
    "trusted": true
   },
   "execution_count": null,
   "outputs": []
  },
  {
   "cell_type": "markdown",
   "source": [
    "Categorical - flat_model"
   ],
   "metadata": {}
  },
  {
   "cell_type": "code",
   "source": [
    "# train_data['flat_model'].value_counts()"
   ],
   "metadata": {
    "ExecuteTime": {
     "end_time": "2023-09-14T16:00:53.525294200Z",
     "start_time": "2023-09-14T16:00:53.508234600Z"
    },
    "execution": {
     "iopub.status.busy": "2023-10-06T14:19:27.003058Z",
     "iopub.execute_input": "2023-10-06T14:19:27.004586Z",
     "iopub.status.idle": "2023-10-06T14:19:27.010489Z",
     "shell.execute_reply.started": "2023-10-06T14:19:27.004546Z",
     "shell.execute_reply": "2023-10-06T14:19:27.008942Z"
    },
    "trusted": true
   },
   "execution_count": null,
   "outputs": []
  },
  {
   "cell_type": "code",
   "source": [
    "# flat_model_counts = train_data['flat_model'].value_counts()\n",
    "\n",
    "# # Plotting\n",
    "# plt.figure(figsize=(15,6))  # Adjust the figure size\n",
    "# sns.barplot(y=flat_model_counts.index, x=flat_model_counts.values, palette='viridis')  # Use y for town names to get a horizontal bar plot\n",
    "\n",
    "# # Add titles and labels\n",
    "# plt.title('Number of Occurrences by Flat Model')\n",
    "# plt.xlabel('Number of Occurrences')\n",
    "# plt.ylabel('Flat Model')\n",
    "\n",
    "# # Display the plot\n",
    "# plt.tight_layout()\n",
    "# plt.show()"
   ],
   "metadata": {
    "ExecuteTime": {
     "end_time": "2023-09-14T16:00:53.715955200Z",
     "start_time": "2023-09-14T16:00:53.524290700Z"
    },
    "execution": {
     "iopub.status.busy": "2023-10-06T14:19:27.012288Z",
     "iopub.execute_input": "2023-10-06T14:19:27.012833Z",
     "iopub.status.idle": "2023-10-06T14:19:27.027852Z",
     "shell.execute_reply.started": "2023-10-06T14:19:27.012790Z",
     "shell.execute_reply": "2023-10-06T14:19:27.026875Z"
    },
    "trusted": true
   },
   "execution_count": null,
   "outputs": []
  },
  {
   "cell_type": "markdown",
   "source": [
    "Categorical - furnished"
   ],
   "metadata": {}
  },
  {
   "cell_type": "code",
   "source": [
    "# train_data['furnished'].value_counts()"
   ],
   "metadata": {
    "ExecuteTime": {
     "end_time": "2023-09-14T16:00:53.810282100Z",
     "start_time": "2023-09-14T16:00:53.715955200Z"
    },
    "execution": {
     "iopub.status.busy": "2023-10-06T14:19:27.029368Z",
     "iopub.execute_input": "2023-10-06T14:19:27.029699Z",
     "iopub.status.idle": "2023-10-06T14:19:27.044203Z",
     "shell.execute_reply.started": "2023-10-06T14:19:27.029671Z",
     "shell.execute_reply": "2023-10-06T14:19:27.042930Z"
    },
    "trusted": true
   },
   "execution_count": null,
   "outputs": []
  },
  {
   "cell_type": "markdown",
   "source": [
    "Categorical - latitude & longitude"
   ],
   "metadata": {}
  },
  {
   "cell_type": "code",
   "source": [
    "# latitude = train_data['latitude']\n",
    "# longitude = train_data['longitude']\n",
    "\n",
    "# avg_lat, avg_lon = latitude.mean(), longitude.mean()\n",
    "\n",
    "# # Create a base map\n",
    "# m = folium.Map(location=[avg_lat, avg_lon], zoom_start=12)\n",
    "\n",
    "# # Add the heat map\n",
    "# heat_data = [[lat, lon] for lat, lon in zip(train_data['latitude'], train_data['longitude'])]\n",
    "# HeatMap(heat_data).add_to(m)\n",
    "\n",
    "# # Display the map\n",
    "# m"
   ],
   "metadata": {
    "ExecuteTime": {
     "end_time": "2023-09-14T16:00:54.126378200Z",
     "start_time": "2023-09-14T16:00:53.732010700Z"
    },
    "execution": {
     "iopub.status.busy": "2023-10-06T14:19:27.046042Z",
     "iopub.execute_input": "2023-10-06T14:19:27.046428Z",
     "iopub.status.idle": "2023-10-06T14:19:27.060245Z",
     "shell.execute_reply.started": "2023-10-06T14:19:27.046399Z",
     "shell.execute_reply": "2023-10-06T14:19:27.059201Z"
    },
    "trusted": true
   },
   "execution_count": null,
   "outputs": []
  },
  {
   "cell_type": "markdown",
   "source": [
    "Categorical - subzone"
   ],
   "metadata": {}
  },
  {
   "cell_type": "code",
   "source": [
    "# train_data['subzone'].value_counts()"
   ],
   "metadata": {
    "ExecuteTime": {
     "end_time": "2023-09-14T16:00:54.128385200Z",
     "start_time": "2023-09-14T16:00:54.116343600Z"
    },
    "execution": {
     "iopub.status.busy": "2023-10-06T14:19:27.061683Z",
     "iopub.execute_input": "2023-10-06T14:19:27.062200Z",
     "iopub.status.idle": "2023-10-06T14:19:27.076635Z",
     "shell.execute_reply.started": "2023-10-06T14:19:27.062172Z",
     "shell.execute_reply": "2023-10-06T14:19:27.075567Z"
    },
    "trusted": true
   },
   "execution_count": null,
   "outputs": []
  },
  {
   "cell_type": "markdown",
   "source": [
    "Categorical - region"
   ],
   "metadata": {}
  },
  {
   "cell_type": "code",
   "source": [
    "# train_data['region'].value_counts()"
   ],
   "metadata": {
    "ExecuteTime": {
     "end_time": "2023-09-14T16:00:54.134406Z",
     "start_time": "2023-09-14T16:00:54.117347Z"
    },
    "execution": {
     "iopub.status.busy": "2023-10-06T14:19:27.077739Z",
     "iopub.execute_input": "2023-10-06T14:19:27.078411Z",
     "iopub.status.idle": "2023-10-06T14:19:27.091082Z",
     "shell.execute_reply.started": "2023-10-06T14:19:27.078378Z",
     "shell.execute_reply": "2023-10-06T14:19:27.090180Z"
    },
    "trusted": true
   },
   "execution_count": null,
   "outputs": []
  },
  {
   "cell_type": "markdown",
   "source": [
    "**Observation**\n",
    "* town & planning_area: these two features' value overlaps, and there are 3 extra values in planning_area. **binary encoded** with other geographical features?\n",
    "* flat_type: 4/3/5 rooms are most popular, does that mean sufficient **demand or supply**? (may influence price)\n",
    "* furnished - 100% furnished, can we drop this feature?\n",
    "* latitude & longitude - there are actually **naturally formed groups**, how to group them properly?\n",
    "* subzone - maybe can be used with the latitude * longitude?\n",
    "* region - 5 disctince values, correspond to the heat map"
   ],
   "metadata": {}
  },
  {
   "cell_type": "markdown",
   "source": [
    "Numerical - monthly_rent"
   ],
   "metadata": {}
  },
  {
   "cell_type": "code",
   "source": [
    "fig, ax = plt.subplots(2, 2, figsize=(20, 12))\n",
    "ax1 = sns.histplot(x = train_data['monthly_rent'], color='teal', ax= ax[0, 0])\n",
    "ax2 = sns.boxplot(x = train_data['monthly_rent'], ax= ax[0, 1], color= 'teal')\n",
    "ax3 = sns.violinplot(x = train_data['monthly_rent'], ax= ax[1, 0], color= 'teal')\n",
    "ax4 = probplot(train_data['monthly_rent'], plot=pylab)\n",
    "pylab.show()"
   ],
   "metadata": {
    "ExecuteTime": {
     "end_time": "2023-09-14T16:00:54.727463200Z",
     "start_time": "2023-09-14T16:00:54.132399Z"
    },
    "execution": {
     "iopub.status.busy": "2023-10-06T14:19:27.092071Z",
     "iopub.execute_input": "2023-10-06T14:19:27.092946Z",
     "iopub.status.idle": "2023-10-06T14:19:28.659524Z",
     "shell.execute_reply.started": "2023-10-06T14:19:27.092916Z",
     "shell.execute_reply": "2023-10-06T14:19:28.658150Z"
    },
    "trusted": true
   },
   "execution_count": null,
   "outputs": []
  },
  {
   "cell_type": "code",
   "source": [
    "# sns.set_context('notebook', font_scale = 1.3)\n",
    "# plt.figure(figsize=(15, 4))\n",
    "# ax = sns.barplot(x=train_data['region'], \n",
    "#                  y=train_data['monthly_rent'], \n",
    "#                  palette='viridis',\n",
    "#                  ci = None)\n",
    "# plt.ylabel('Monthly Rent');\n",
    "\n",
    "# for p in ax.patches:\n",
    "#     ax.annotate(int(p.get_height()), (p.get_x() + 0.4, p.get_height() + 1), ha = 'center', va = 'bottom', color = 'Black')"
   ],
   "metadata": {
    "ExecuteTime": {
     "end_time": "2023-09-14T16:00:54.867950100Z",
     "start_time": "2023-09-14T16:00:54.725455800Z"
    },
    "execution": {
     "iopub.status.busy": "2023-10-06T14:19:28.661433Z",
     "iopub.execute_input": "2023-10-06T14:19:28.661761Z",
     "iopub.status.idle": "2023-10-06T14:19:28.667288Z",
     "shell.execute_reply.started": "2023-10-06T14:19:28.661730Z",
     "shell.execute_reply": "2023-10-06T14:19:28.666132Z"
    },
    "trusted": true
   },
   "execution_count": null,
   "outputs": []
  },
  {
   "cell_type": "code",
   "source": [
    "sns.set_context('notebook', font_scale = 1.3)\n",
    "plt.figure(figsize=(15, 4))\n",
    "ax = sns.barplot(x=train_data['flat_type'], \n",
    "                 y=train_data['monthly_rent'], \n",
    "                 palette='viridis',\n",
    "                 ci = None)\n",
    "plt.ylabel('Monthly Rent');\n",
    "\n",
    "for p in ax.patches:\n",
    "    ax.annotate(int(p.get_height()), (p.get_x() + 0.4, p.get_height() + 1), ha = 'center', va = 'bottom', color = 'Black')"
   ],
   "metadata": {
    "ExecuteTime": {
     "end_time": "2023-09-14T16:00:54.955252600Z",
     "start_time": "2023-09-14T16:00:54.837845400Z"
    },
    "execution": {
     "iopub.status.busy": "2023-10-06T14:19:28.668813Z",
     "iopub.execute_input": "2023-10-06T14:19:28.669244Z",
     "iopub.status.idle": "2023-10-06T14:19:29.009278Z",
     "shell.execute_reply.started": "2023-10-06T14:19:28.669200Z",
     "shell.execute_reply": "2023-10-06T14:19:29.007206Z"
    },
    "trusted": true
   },
   "execution_count": null,
   "outputs": []
  },
  {
   "cell_type": "code",
   "source": [
    "# sns.set_context('notebook', font_scale = 1.3)\n",
    "# plt.figure(figsize=(15, 4))\n",
    "# ax = sns.barplot(x=train_data['flat_model'], \n",
    "#                  y=train_data['monthly_rent'], \n",
    "#                  palette='viridis',\n",
    "#                  ci = None)\n",
    "# ax.set_xticklabels(ax.get_xticklabels(), rotation=45, ha='right')\n",
    "# plt.ylabel('Monthly Rent');\n",
    "\n",
    "# for p in ax.patches:\n",
    "#     ax.annotate(int(p.get_height()), (p.get_x() + 0.4, p.get_height() + 1), ha = 'center', va = 'bottom', color = 'Black')"
   ],
   "metadata": {
    "ExecuteTime": {
     "end_time": "2023-09-14T16:00:55.158959200Z",
     "start_time": "2023-09-14T16:00:54.951239100Z"
    },
    "execution": {
     "iopub.status.busy": "2023-10-06T14:19:29.010494Z",
     "iopub.execute_input": "2023-10-06T14:19:29.010801Z",
     "iopub.status.idle": "2023-10-06T14:19:29.015554Z",
     "shell.execute_reply.started": "2023-10-06T14:19:29.010773Z",
     "shell.execute_reply": "2023-10-06T14:19:29.014327Z"
    },
    "trusted": true
   },
   "execution_count": null,
   "outputs": []
  },
  {
   "cell_type": "code",
   "source": [
    "train_data = train_data.sort_values('lease_commence_date')\n",
    "\n",
    "# Plot\n",
    "plt.figure(figsize=(16, 4))\n",
    "sns.lineplot(x='lease_commence_date', y='monthly_rent', data=train_data, ci=None)\n",
    "\n",
    "plt.title('Trend of Monthly Rent Over Years')\n",
    "plt.xlabel('Year of Lease Commencement')\n",
    "plt.ylabel('Average Monthly Rent')\n",
    "plt.tight_layout()\n",
    "plt.show()\n"
   ],
   "metadata": {
    "ExecuteTime": {
     "end_time": "2023-09-14T16:00:55.318512700Z",
     "start_time": "2023-09-14T16:00:55.157955800Z"
    },
    "execution": {
     "iopub.status.busy": "2023-10-06T14:19:29.017057Z",
     "iopub.execute_input": "2023-10-06T14:19:29.017513Z",
     "iopub.status.idle": "2023-10-06T14:19:29.594287Z",
     "shell.execute_reply.started": "2023-10-06T14:19:29.017470Z",
     "shell.execute_reply": "2023-10-06T14:19:29.593106Z"
    },
    "trusted": true
   },
   "execution_count": null,
   "outputs": []
  },
  {
   "cell_type": "markdown",
   "source": [
    "Numerical - floor_area_sqm"
   ],
   "metadata": {}
  },
  {
   "cell_type": "code",
   "source": [
    "fig, ax = plt.subplots(1, 2, figsize=(15, 4))\n",
    "\n",
    "sns.histplot(train_data['floor_area_sqm'], bins=30, kde=False, color='orange', ax=ax[0])  # Adjust position as desired\n",
    "sns.scatterplot(x=train_data['floor_area_sqm'], y=train_data['monthly_rent'], ax=ax[1], color='green', alpha=0.5)  # Adjust position as desired\n",
    "\n",
    "plt.tight_layout()\n",
    "plt.show()"
   ],
   "metadata": {
    "ExecuteTime": {
     "end_time": "2023-09-14T16:00:55.639626Z",
     "start_time": "2023-09-14T16:00:55.318512700Z"
    },
    "execution": {
     "iopub.status.busy": "2023-10-06T14:19:29.595732Z",
     "iopub.execute_input": "2023-10-06T14:19:29.596021Z",
     "iopub.status.idle": "2023-10-06T14:19:30.530001Z",
     "shell.execute_reply.started": "2023-10-06T14:19:29.595996Z",
     "shell.execute_reply": "2023-10-06T14:19:30.529207Z"
    },
    "trusted": true
   },
   "execution_count": null,
   "outputs": []
  },
  {
   "cell_type": "markdown",
   "source": [
    "Monthly rent in the map"
   ],
   "metadata": {}
  },
  {
   "cell_type": "code",
   "source": [
    "fig = plt.figure(figsize=(20, 10))\n",
    "ax = fig.add_subplot(111, projection='3d')\n",
    "\n",
    "x = train_data['latitude']\n",
    "y = train_data['longitude']\n",
    "z = train_data['monthly_rent']\n",
    "\n",
    "scatter = ax.scatter(x, y, z, c=z, marker='o', alpha=0.6, cmap=\"viridis\")\n",
    "ax.set_xlabel('Latitude', labelpad=10) \n",
    "ax.set_ylabel('Longitude', labelpad=10) \n",
    "ax.set_zlabel('Monthly Rent', labelpad=10)\n",
    "fig.colorbar(scatter, ax=ax, label='Monthly Rent', pad=0.1, shrink=0.5) \n",
    "\n",
    "ax.view_init(elev=60, azim=-60)  # Adjust elevation & azimuthal angles as needed\n",
    "\n",
    "plt.tight_layout()\n",
    "plt.show()"
   ],
   "metadata": {
    "ExecuteTime": {
     "end_time": "2023-09-14T16:00:56.425350800Z",
     "start_time": "2023-09-14T16:00:55.639626Z"
    },
    "execution": {
     "iopub.status.busy": "2023-10-06T14:19:30.531478Z",
     "iopub.execute_input": "2023-10-06T14:19:30.531768Z",
     "iopub.status.idle": "2023-10-06T14:19:32.606166Z",
     "shell.execute_reply.started": "2023-10-06T14:19:30.531743Z",
     "shell.execute_reply": "2023-10-06T14:19:32.605216Z"
    },
    "trusted": true
   },
   "execution_count": null,
   "outputs": []
  },
  {
   "cell_type": "code",
   "source": [
    "# train_data['town'].value_counts()"
   ],
   "metadata": {
    "ExecuteTime": {
     "end_time": "2023-09-14T16:00:56.438395700Z",
     "start_time": "2023-09-14T16:00:56.423343500Z"
    },
    "execution": {
     "iopub.status.busy": "2023-10-06T14:19:32.607545Z",
     "iopub.execute_input": "2023-10-06T14:19:32.608023Z",
     "iopub.status.idle": "2023-10-06T14:19:32.613298Z",
     "shell.execute_reply.started": "2023-10-06T14:19:32.607995Z",
     "shell.execute_reply": "2023-10-06T14:19:32.611624Z"
    },
    "trusted": true
   },
   "execution_count": null,
   "outputs": []
  },
  {
   "cell_type": "code",
   "source": [
    "import plotly.express as px\n",
    "\n",
    "fig = px.scatter_3d(train_data, \n",
    "                    x='latitude', \n",
    "                    y='longitude', \n",
    "                    z='monthly_rent',\n",
    "                    color='monthly_rent', \n",
    "                    opacity=0.6,\n",
    "                    color_continuous_scale='viridis',\n",
    "                    title=\"3D Scatter plot of Rent based on Latitude and Longitude\")\n",
    "\n",
    "fig.show()"
   ],
   "metadata": {
    "ExecuteTime": {
     "end_time": "2023-09-14T16:00:56.958198600Z",
     "start_time": "2023-09-14T16:00:56.438395700Z"
    },
    "execution": {
     "iopub.status.busy": "2023-10-06T14:19:32.614893Z",
     "iopub.execute_input": "2023-10-06T14:19:32.615317Z",
     "iopub.status.idle": "2023-10-06T14:19:32.737301Z",
     "shell.execute_reply.started": "2023-10-06T14:19:32.615280Z",
     "shell.execute_reply": "2023-10-06T14:19:32.734773Z"
    },
    "trusted": true
   },
   "execution_count": null,
   "outputs": []
  },
  {
   "cell_type": "markdown",
   "source": [
    "**Observation**\n",
    "1. monthly rent\n",
    "* it's not heavily skewed, but there are definately outliers \n",
    "* regions - the average rent across different regions are roughly the same\n",
    "* flat_type - the average rent is positively correlated to the #room\n",
    "* flat_model - those with extremely low frequency in flat_model usually have a high price \n",
    "* lease_commence_date - graph indicates the rent is increasing yearly, and exhibit up and downs in each decade. this can be combined with the auxiliary data to analyze the influence of economics\n",
    "* floor_area_sqm - generally normal distribution, but obvious outliers\n",
    "* latitude&longitude - observe from a higher angle, there are definately groups"
   ],
   "metadata": {}
  },
  {
   "cell_type": "markdown",
   "source": [
    "* log-2023-9-29：\n",
    "1. 这个b-platform太难用了，可以考虑代替；\n",
    "2. 对于二进制数据，无法作为模型的输入，需要改成int or float，同时onehot编码可以考虑以其他方式应用；\n",
    "3. 需要尝试更多方法进行整合，但当前需要规范好input。"
   ],
   "metadata": {}
  },
  {
   "cell_type": "markdown",
   "source": [
    "# 4. Modelling (by sxg)"
   ],
   "metadata": {}
  },
  {
   "cell_type": "markdown",
   "source": [
    "Different modelling methods may involve different data processing and feature engineering techniques. Therefore, instead of using the train_data/test_data directly, we create separate copies of the dataset for each method to generate the corresponding training/testing data for that particular method."
   ],
   "metadata": {}
  },
  {
   "cell_type": "markdown",
   "source": [
    "## 4.1 Multiple Linear Regression"
   ],
   "metadata": {}
  },
  {
   "cell_type": "code",
   "source": [
    "# train_data_mlr = train_data.copy()"
   ],
   "metadata": {
    "execution": {
     "iopub.status.busy": "2023-10-06T14:19:32.739650Z",
     "iopub.execute_input": "2023-10-06T14:19:32.740319Z",
     "iopub.status.idle": "2023-10-06T14:19:32.744929Z",
     "shell.execute_reply.started": "2023-10-06T14:19:32.740285Z",
     "shell.execute_reply": "2023-10-06T14:19:32.744021Z"
    },
    "trusted": true
   },
   "execution_count": null,
   "outputs": []
  },
  {
   "cell_type": "code",
   "source": [
    "# X_train = train_data_mlr.drop(['monthly_rent'], axis = 1)\n",
    "# y_train = train_data_mlr['monthly_rent']\n",
    "# # X_test = test_data_mlr.drop(['monthly_rent'], axis = 1)\n",
    "# # y_test = test_data_mlr['monthly_rent']"
   ],
   "metadata": {
    "execution": {
     "iopub.status.busy": "2023-10-06T14:19:32.746365Z",
     "iopub.execute_input": "2023-10-06T14:19:32.746636Z",
     "iopub.status.idle": "2023-10-06T14:19:32.760934Z",
     "shell.execute_reply.started": "2023-10-06T14:19:32.746612Z",
     "shell.execute_reply": "2023-10-06T14:19:32.759949Z"
    },
    "trusted": true
   },
   "execution_count": null,
   "outputs": []
  },
  {
   "cell_type": "markdown",
   "source": [
    "### Model Training"
   ],
   "metadata": {}
  },
  {
   "cell_type": "code",
   "source": [
    "# from sklearn.linear_model import LinearRegression"
   ],
   "metadata": {
    "execution": {
     "iopub.status.busy": "2023-10-06T14:19:32.762372Z",
     "iopub.execute_input": "2023-10-06T14:19:32.762684Z",
     "iopub.status.idle": "2023-10-06T14:19:32.775523Z",
     "shell.execute_reply.started": "2023-10-06T14:19:32.762658Z",
     "shell.execute_reply": "2023-10-06T14:19:32.774453Z"
    },
    "trusted": true
   },
   "execution_count": null,
   "outputs": []
  },
  {
   "cell_type": "code",
   "source": [
    "# # Instantiate a Linear Regression model, for simplicity here we first take all attributes into consideration\n",
    "# mlr = LinearRegression()\n",
    "# mlr.fit(X_train, y_train)"
   ],
   "metadata": {
    "execution": {
     "iopub.status.busy": "2023-10-06T14:19:32.776884Z",
     "iopub.execute_input": "2023-10-06T14:19:32.777243Z",
     "iopub.status.idle": "2023-10-06T14:19:32.790522Z",
     "shell.execute_reply.started": "2023-10-06T14:19:32.777215Z",
     "shell.execute_reply": "2023-10-06T14:19:32.789368Z"
    },
    "trusted": true
   },
   "execution_count": null,
   "outputs": []
  },
  {
   "cell_type": "markdown",
   "source": [
    "### Evaluation"
   ],
   "metadata": {}
  },
  {
   "cell_type": "markdown",
   "source": [
    "#### Evaluate the model on training dataset\n",
    "\n",
    "We first use metrics to evaluate the model performance on the training dataset."
   ],
   "metadata": {}
  },
  {
   "cell_type": "markdown",
   "source": [],
   "metadata": {}
  },
  {
   "cell_type": "code",
   "source": [
    "# y_pred_train = mlr.predict(X_train)"
   ],
   "metadata": {
    "execution": {
     "iopub.status.busy": "2023-10-06T14:19:32.791568Z",
     "iopub.execute_input": "2023-10-06T14:19:32.791854Z",
     "iopub.status.idle": "2023-10-06T14:19:32.805474Z",
     "shell.execute_reply.started": "2023-10-06T14:19:32.791830Z",
     "shell.execute_reply": "2023-10-06T14:19:32.803408Z"
    },
    "trusted": true
   },
   "execution_count": null,
   "outputs": []
  },
  {
   "cell_type": "code",
   "source": [
    "# # Model evaluation metrics\n",
    "# print('R^2:',metrics.r2_score(y_train, y_pred_train))\n",
    "# print('Adjusted R^2:',1 - (1-metrics.r2_score(y_train, y_pred_train))*(len(y_train)-1)/(len(y_train)-X_train.shape[1]-1))\n",
    "# print('MAE:',metrics.mean_absolute_error(y_train, y_pred_train))\n",
    "# print('MSE:',metrics.mean_squared_error(y_train, y_pred_train))\n",
    "# print('RMSE:',np.sqrt(metrics.mean_squared_error(y_train, y_pred_train)))"
   ],
   "metadata": {
    "execution": {
     "iopub.status.busy": "2023-10-06T14:19:32.807090Z",
     "iopub.execute_input": "2023-10-06T14:19:32.808603Z",
     "iopub.status.idle": "2023-10-06T14:19:32.820703Z",
     "shell.execute_reply.started": "2023-10-06T14:19:32.808564Z",
     "shell.execute_reply": "2023-10-06T14:19:32.819444Z"
    },
    "trusted": true
   },
   "execution_count": null,
   "outputs": []
  },
  {
   "cell_type": "code",
   "source": [
    "# # Visualizing\n",
    "# plt.scatter(y_train, y_pred_train)\n",
    "# plt.xlabel(\"Actual Price\")\n",
    "# plt.ylabel(\"Predicted Price\")\n",
    "# plt.title(\"Actual vs Predicted\")\n",
    "# plt.show()"
   ],
   "metadata": {
    "execution": {
     "iopub.status.busy": "2023-10-06T14:19:32.821723Z",
     "iopub.execute_input": "2023-10-06T14:19:32.821998Z",
     "iopub.status.idle": "2023-10-06T14:19:32.837575Z",
     "shell.execute_reply.started": "2023-10-06T14:19:32.821975Z",
     "shell.execute_reply": "2023-10-06T14:19:32.836325Z"
    },
    "trusted": true
   },
   "execution_count": null,
   "outputs": []
  },
  {
   "cell_type": "markdown",
   "source": [
    "**Assumptions on MLR Models**\n",
    "\n",
    "There are some main assumptions on Multiple Regression Models, which are listed below:\n",
    "\n",
    "* Linearity\n",
    "* No Multi-Collinearity\n",
    "* Homoskedasticity\n",
    "* Independence of independent variable\n",
    "* Normality\n",
    "* Independence of errors\n",
    "\n",
    "We should conduct examinations on whether the assumptions above are satisfied in this context. Basic methods include using diagnostic plots for the relevant analysis. For example, we can use residual plots to check if homoskedasticity is violated or the errors' independency. Also, scatter plots of dependent versus independent variables can help us find non-linear relationships and so on."
   ],
   "metadata": {}
  },
  {
   "cell_type": "markdown",
   "source": [
    "* **Linearity**"
   ],
   "metadata": {}
  },
  {
   "cell_type": "markdown",
   "source": [
    "Linearity in MLR means that the relationship between the independent variables (features) and the dependent variable (target) is linear."
   ],
   "metadata": {}
  },
  {
   "cell_type": "code",
   "source": [
    "# X_train.columns"
   ],
   "metadata": {
    "execution": {
     "iopub.status.busy": "2023-10-06T14:19:32.839430Z",
     "iopub.execute_input": "2023-10-06T14:19:32.839746Z",
     "iopub.status.idle": "2023-10-06T14:19:32.856862Z",
     "shell.execute_reply.started": "2023-10-06T14:19:32.839716Z",
     "shell.execute_reply": "2023-10-06T14:19:32.855600Z"
    },
    "trusted": true
   },
   "execution_count": null,
   "outputs": []
  },
  {
   "cell_type": "code",
   "source": [
    "# numerical_attributes = ['floor_area_sqm', 'latitude', 'longitude']\n",
    "# X_plot = X_train.loc[:,numerical_attributes]\n",
    "# fig, axs = plt.subplots(ncols=3, nrows=1, figsize=(12, 4))\n",
    "\n",
    "# axs = axs.flatten()\n",
    "# for i, k in enumerate(numerical_attributes):\n",
    "#     sns.regplot(y=y_train, x=X_plot[k], ax=axs[i], scatter_kws={\"color\": \"teal\"}, line_kws={\"color\": \"red\"})\n",
    "# plt.tight_layout(pad=0.4, w_pad=0.5, h_pad=5.0)"
   ],
   "metadata": {
    "execution": {
     "iopub.status.busy": "2023-10-06T14:19:32.859165Z",
     "iopub.execute_input": "2023-10-06T14:19:32.859632Z",
     "iopub.status.idle": "2023-10-06T14:19:32.872935Z",
     "shell.execute_reply.started": "2023-10-06T14:19:32.859587Z",
     "shell.execute_reply": "2023-10-06T14:19:32.871561Z"
    },
    "trusted": true
   },
   "execution_count": null,
   "outputs": []
  },
  {
   "cell_type": "markdown",
   "source": [
    "* **No Multi-Collinearity**"
   ],
   "metadata": {}
  },
  {
   "cell_type": "markdown",
   "source": [
    "Multicollinearity occurs when two or more independent variables in the MLR model are highly correlated, making it difficult to separate their individual effects on the dependent variable. It can impact the reliability of your regression model's coefficients and predictions. "
   ],
   "metadata": {}
  },
  {
   "cell_type": "markdown",
   "source": [
    "We use the Correlation Matrix to have a look at the multi-collinearity across all variables first. Look for high correlation coefficients (typically greater than 0.7) between pairs of variables. High correlations suggest multicollinearity."
   ],
   "metadata": {}
  },
  {
   "cell_type": "code",
   "source": [
    "# # Display Correlation Matrix\n",
    "# corrMatrix = X_train.corr()\n",
    "# sns.heatmap(corrMatrix, annot=True)\n",
    "# plt.show()"
   ],
   "metadata": {
    "execution": {
     "iopub.status.busy": "2023-10-06T14:19:32.875048Z",
     "iopub.execute_input": "2023-10-06T14:19:32.875479Z",
     "iopub.status.idle": "2023-10-06T14:19:32.887065Z",
     "shell.execute_reply.started": "2023-10-06T14:19:32.875446Z",
     "shell.execute_reply": "2023-10-06T14:19:32.885905Z"
    },
    "trusted": true
   },
   "execution_count": null,
   "outputs": []
  },
  {
   "cell_type": "markdown",
   "source": [
    "`flat_type` and `floor_area_sqm` has a correlation coefficient of 0.95, and `town` and `planning_area` has a correlation coefficient of 0.97. This may suggest multicollinearity.\n",
    "\n",
    "Note that `flat_type`, `town` and `planning_area` are  encoded and is not numeric values by nature, so we may consider other encoding methods for avoiding multi-collinearity across the variables."
   ],
   "metadata": {}
  },
  {
   "cell_type": "markdown",
   "source": [
    "Then we use another metrics Variance Inflation Factor (VIF) to measure how much the variance of the estimated regression coefficients is increased due to multi-collinearity. Calculate the VIF for each independent variable. High VIF values (typically greater than 10) indicate multicollinearity."
   ],
   "metadata": {}
  },
  {
   "cell_type": "code",
   "source": [
    "# from statsmodels.stats.outliers_influence import variance_inflation_factor"
   ],
   "metadata": {
    "execution": {
     "iopub.status.busy": "2023-10-06T14:19:32.888386Z",
     "iopub.execute_input": "2023-10-06T14:19:32.889234Z",
     "iopub.status.idle": "2023-10-06T14:19:32.902126Z",
     "shell.execute_reply.started": "2023-10-06T14:19:32.889191Z",
     "shell.execute_reply": "2023-10-06T14:19:32.900807Z"
    },
    "trusted": true
   },
   "execution_count": null,
   "outputs": []
  },
  {
   "cell_type": "code",
   "source": [
    "# def calc_vif(X):\n",
    "#     vif = pd.DataFrame()\n",
    "#     vif[\"variables\"] = X.columns\n",
    "#     vif[\"VIF\"] = [variance_inflation_factor(X.values, i) for i in range(X.shape[1])]\n",
    "#     return(vif)"
   ],
   "metadata": {
    "execution": {
     "iopub.status.busy": "2023-10-06T14:19:32.904381Z",
     "iopub.execute_input": "2023-10-06T14:19:32.904707Z",
     "iopub.status.idle": "2023-10-06T14:19:32.915861Z",
     "shell.execute_reply.started": "2023-10-06T14:19:32.904683Z",
     "shell.execute_reply": "2023-10-06T14:19:32.914786Z"
    },
    "trusted": true
   },
   "execution_count": null,
   "outputs": []
  },
  {
   "cell_type": "code",
   "source": [
    "# calc_vif(X_train)\n",
    "## DOES NOT WORK \n",
    "## Ensure that the input data you're using with the isfinite function is of a numeric data type (e.g., float, int) because isfinite is typically used to check the finiteness of numeric values. If your data contains non-numeric or incompatible data types, you'll encounter this error."
   ],
   "metadata": {
    "execution": {
     "iopub.status.busy": "2023-10-06T14:19:32.917677Z",
     "iopub.execute_input": "2023-10-06T14:19:32.918068Z",
     "iopub.status.idle": "2023-10-06T14:19:32.930713Z",
     "shell.execute_reply.started": "2023-10-06T14:19:32.918031Z",
     "shell.execute_reply": "2023-10-06T14:19:32.929638Z"
    },
    "trusted": true
   },
   "execution_count": null,
   "outputs": []
  },
  {
   "cell_type": "markdown",
   "source": [
    "* **Homoskedasticity**"
   ],
   "metadata": {}
  },
  {
   "cell_type": "markdown",
   "source": [
    "Homoscedasticity means that the variance of the residuals (the differences between the observed values and the predicted values) is constant across all levels of the independent variables. If homoscedasticity is violated, it can lead to problems such as biased coefficient estimates and incorrect inference."
   ],
   "metadata": {}
  },
  {
   "cell_type": "code",
   "source": [
    "# plt.scatter(y_pred_train, y_train - y_pred_train)\n",
    "# plt.title(\"Residual vs Fit Plot\")\n",
    "# plt.xlabel(\"Predicted\")\n",
    "# plt.ylabel(\"Residuals\")\n",
    "# plt.show()"
   ],
   "metadata": {
    "execution": {
     "iopub.status.busy": "2023-10-06T14:19:32.932456Z",
     "iopub.execute_input": "2023-10-06T14:19:32.932760Z",
     "iopub.status.idle": "2023-10-06T14:19:32.944660Z",
     "shell.execute_reply.started": "2023-10-06T14:19:32.932736Z",
     "shell.execute_reply": "2023-10-06T14:19:32.943520Z"
    },
    "trusted": true
   },
   "execution_count": null,
   "outputs": []
  },
  {
   "cell_type": "markdown",
   "source": [
    "We can observe that there is a random scattering of points with no discernible pattern. As in a homoskedastic dataset, the points should be evenly scattered around the horizontal line at 0 (the residuals have constant variance), we can come to the conclusion that the Homoskedasticity is not violated.\n",
    "\n",
    "Also, we do not observe a funnel-shaped, fan-shaped pattern, or any other systematic change in the spread of residuals as the fitted values change, which suggests heteroskedasticity (the variance of residuals is not constant)."
   ],
   "metadata": {}
  },
  {
   "cell_type": "markdown",
   "source": [
    "* **Independence of independent variables**"
   ],
   "metadata": {}
  },
  {
   "cell_type": "markdown",
   "source": [
    "MLR assumes that independent variables are not perfectly correlated with each other (i.e., they are independent). Violations of this assumption can lead to unstable coefficient estimates and difficulties in interpreting their individual effects."
   ],
   "metadata": {}
  },
  {
   "cell_type": "code",
   "source": [
    "# # Independence of X variables-'floor_area_sqm'\n",
    "# plt.scatter(X_train['floor_area_sqm'], y_train - y_pred_train)\n",
    "# plt.title(\"Floor Area Size vs Residuals\")\n",
    "# plt.xlabel(\"floor_area_sqm\")\n",
    "# plt.ylabel(\"Residuals\")\n",
    "# plt.show()"
   ],
   "metadata": {
    "execution": {
     "iopub.status.busy": "2023-10-06T14:19:32.945748Z",
     "iopub.execute_input": "2023-10-06T14:19:32.946174Z",
     "iopub.status.idle": "2023-10-06T14:19:32.957402Z",
     "shell.execute_reply.started": "2023-10-06T14:19:32.946138Z",
     "shell.execute_reply": "2023-10-06T14:19:32.955923Z"
    },
    "trusted": true
   },
   "execution_count": null,
   "outputs": []
  },
  {
   "cell_type": "code",
   "source": [
    "# # Independence of X variables-'latitude'\n",
    "# plt.scatter(X_train['latitude'], y_train - y_pred_train)\n",
    "# plt.title(\"Latitude vs Residuals\")\n",
    "# plt.xlabel(\"latitude\")\n",
    "# plt.ylabel(\"Residuals\")\n",
    "# plt.show()"
   ],
   "metadata": {
    "execution": {
     "iopub.status.busy": "2023-10-06T14:19:32.959432Z",
     "iopub.execute_input": "2023-10-06T14:19:32.959738Z",
     "iopub.status.idle": "2023-10-06T14:19:32.971427Z",
     "shell.execute_reply.started": "2023-10-06T14:19:32.959713Z",
     "shell.execute_reply": "2023-10-06T14:19:32.970359Z"
    },
    "trusted": true
   },
   "execution_count": null,
   "outputs": []
  },
  {
   "cell_type": "code",
   "source": [
    "# # Independence of X variables-'longitude'\n",
    "# plt.scatter(X_train['longitude'], y_train - y_pred_train)\n",
    "# plt.title(\"Longitude vs Residuals\")\n",
    "# plt.xlabel(\"latitude\")\n",
    "# plt.ylabel(\"Residuals\")\n",
    "# plt.show()"
   ],
   "metadata": {
    "execution": {
     "iopub.status.busy": "2023-10-06T14:19:32.973015Z",
     "iopub.execute_input": "2023-10-06T14:19:32.973455Z",
     "iopub.status.idle": "2023-10-06T14:19:32.986136Z",
     "shell.execute_reply.started": "2023-10-06T14:19:32.973409Z",
     "shell.execute_reply": "2023-10-06T14:19:32.984922Z"
    },
    "trusted": true
   },
   "execution_count": null,
   "outputs": []
  },
  {
   "cell_type": "markdown",
   "source": [
    "The plots above all show that residuals do appear randomly and symmetrically distributed around zero under all conditions, which prove the independence."
   ],
   "metadata": {}
  },
  {
   "cell_type": "markdown",
   "source": [
    "* **Normality**"
   ],
   "metadata": {}
  },
  {
   "cell_type": "markdown",
   "source": [
    "MLR assumes that the residuals (the differences between the observed and predicted values) are normally distributed. Deviations from normality can impact the validity of statistical inference, such as hypothesis tests and confidence intervals."
   ],
   "metadata": {}
  },
  {
   "cell_type": "code",
   "source": [
    "# # Normality of residuals\n",
    "# sns.distplot(y_train - y_pred_train)\n",
    "# plt.title(\"Normality of Residuals\")\n",
    "# plt.xlabel(\"Residuals\")\n",
    "# plt.ylabel(\"Frequency\")\n",
    "# plt.show()"
   ],
   "metadata": {
    "execution": {
     "iopub.status.busy": "2023-10-06T14:19:32.987424Z",
     "iopub.execute_input": "2023-10-06T14:19:32.987784Z",
     "iopub.status.idle": "2023-10-06T14:19:33.004813Z",
     "shell.execute_reply.started": "2023-10-06T14:19:32.987758Z",
     "shell.execute_reply": "2023-10-06T14:19:33.003562Z"
    },
    "trusted": true
   },
   "execution_count": null,
   "outputs": []
  },
  {
   "cell_type": "markdown",
   "source": [
    "We can see fro the plot above that the residuals are normally distributed, which means the normality assumption is satiefied."
   ],
   "metadata": {}
  },
  {
   "cell_type": "markdown",
   "source": [
    "* **Independence of errors**"
   ],
   "metadata": {}
  },
  {
   "cell_type": "markdown",
   "source": [
    "Independence of errors states that the residuals (the differences between the observed values and the predicted values) should be independent of each other. Violations of this assumption can lead to incorrect parameter estimates, unreliable hypothesis tests, and inaccurate predictions. "
   ],
   "metadata": {}
  },
  {
   "cell_type": "markdown",
   "source": [
    "Here we use *Durbin-Watson Test* for checking independence of errors. This statistical test checks for the presence of autocorrelation in the residuals. A Durbin-Watson statistic value close to 2 indicates no autocorrelation."
   ],
   "metadata": {}
  },
  {
   "cell_type": "code",
   "source": [
    "# durbin_watson_statistic = sm.stats.stattools.durbin_watson(y_train - y_pred_train)\n",
    "# print(f'Durbin-Watson Statistic: {durbin_watson_statistic}')"
   ],
   "metadata": {
    "execution": {
     "iopub.status.busy": "2023-10-06T14:19:33.006701Z",
     "iopub.execute_input": "2023-10-06T14:19:33.007252Z",
     "iopub.status.idle": "2023-10-06T14:19:33.023046Z",
     "shell.execute_reply.started": "2023-10-06T14:19:33.007201Z",
     "shell.execute_reply": "2023-10-06T14:19:33.021618Z"
    },
    "trusted": true
   },
   "execution_count": null,
   "outputs": []
  },
  {
   "cell_type": "markdown",
   "source": [
    "The Durbin-Watson statistic value is close to 2, which means there is no autocorrelation (i.e. the assmuption is satisfied)."
   ],
   "metadata": {}
  },
  {
   "cell_type": "markdown",
   "source": [
    "#### Evaluate the model on test dataset\n",
    "\n",
    "After the evalution on the training dataset, as well as the checks for MLR assmuptions and corresponding model refinement, we can use the model as the final  MLR model and evaluate its performance on the test dataset."
   ],
   "metadata": {}
  },
  {
   "cell_type": "code",
   "source": [
    "# y_pred_test = mlr.predict(X_test)"
   ],
   "metadata": {
    "execution": {
     "iopub.status.busy": "2023-10-06T14:19:33.024628Z",
     "iopub.execute_input": "2023-10-06T14:19:33.024896Z",
     "iopub.status.idle": "2023-10-06T14:19:33.035531Z",
     "shell.execute_reply.started": "2023-10-06T14:19:33.024873Z",
     "shell.execute_reply": "2023-10-06T14:19:33.034638Z"
    },
    "trusted": true
   },
   "execution_count": null,
   "outputs": []
  },
  {
   "cell_type": "code",
   "source": [
    "# mlr_dict = {'Model':'Multiple Linear Regression',\n",
    "#           'R^2':metrics.r2_score(y_test, y_pred_test),\n",
    "#           'Adjusted R^2':(1 - (1-metrics.r2_score(y_test, y_pred_test))*(len(y_test)-1)/(len(y_test)-X_test.shape[1]-1)),\n",
    "#           'MAE':metrics.mean_absolute_error(y_test, y_pred_test),\n",
    "#           'MSE':metrics.mean_squared_error(y_test, y_pred_test),\n",
    "#           'RMSE':np.sqrt(metrics.mean_squared_error(y_test, y_pred_test))}\n",
    "\n",
    "# mlr_metrics = pd.DataFrame.from_dict(mlr_dict, orient = 'index').T\n",
    "\n",
    "# # Display model performance metrics\n",
    "# mlr_metrics"
   ],
   "metadata": {
    "execution": {
     "iopub.status.busy": "2023-10-06T14:19:33.036615Z",
     "iopub.execute_input": "2023-10-06T14:19:33.036970Z",
     "iopub.status.idle": "2023-10-06T14:19:33.049703Z",
     "shell.execute_reply.started": "2023-10-06T14:19:33.036935Z",
     "shell.execute_reply": "2023-10-06T14:19:33.048817Z"
    },
    "trusted": true
   },
   "execution_count": null,
   "outputs": []
  },
  {
   "cell_type": "markdown",
   "source": [
    "### Analysis"
   ],
   "metadata": {}
  },
  {
   "cell_type": "markdown",
   "source": [
    "> TODO"
   ],
   "metadata": {}
  },
  {
   "cell_type": "markdown",
   "source": [
    "</br>"
   ],
   "metadata": {}
  },
  {
   "cell_type": "markdown",
   "source": [
    "## 4.2 Random Forest Regressor"
   ],
   "metadata": {}
  },
  {
   "cell_type": "code",
   "source": [
    "# train_data_rf = train_data.copy()\n",
    "# # test_data_rf = test_data.copy()"
   ],
   "metadata": {
    "execution": {
     "iopub.status.busy": "2023-10-06T14:19:33.051114Z",
     "iopub.execute_input": "2023-10-06T14:19:33.051489Z",
     "iopub.status.idle": "2023-10-06T14:19:33.063892Z",
     "shell.execute_reply.started": "2023-10-06T14:19:33.051455Z",
     "shell.execute_reply": "2023-10-06T14:19:33.062779Z"
    },
    "trusted": true
   },
   "execution_count": null,
   "outputs": []
  },
  {
   "cell_type": "code",
   "source": [
    "# X_train = train_data_rf.drop(['monthly_rent'], axis = 1)\n",
    "# y_train = train_data_rf['monthly_rent']\n",
    "# # X_test = test_data_mlr.drop(['monthly_rent'], axis = 1)\n",
    "# # y_test = test_data_mlr['monthly_rent']"
   ],
   "metadata": {
    "execution": {
     "iopub.status.busy": "2023-10-06T14:19:33.064837Z",
     "iopub.execute_input": "2023-10-06T14:19:33.065150Z",
     "iopub.status.idle": "2023-10-06T14:19:33.078120Z",
     "shell.execute_reply.started": "2023-10-06T14:19:33.065084Z",
     "shell.execute_reply": "2023-10-06T14:19:33.077188Z"
    },
    "trusted": true
   },
   "execution_count": null,
   "outputs": []
  },
  {
   "cell_type": "markdown",
   "source": [
    "### Model Training"
   ],
   "metadata": {}
  },
  {
   "cell_type": "code",
   "source": [
    "# from sklearn.model_selection import RandomizedSearchCV, GridSearchCV\n",
    "# from sklearn.ensemble import RandomForestRegressor"
   ],
   "metadata": {
    "execution": {
     "iopub.status.busy": "2023-10-06T14:19:33.079794Z",
     "iopub.execute_input": "2023-10-06T14:19:33.080382Z",
     "iopub.status.idle": "2023-10-06T14:19:33.091907Z",
     "shell.execute_reply.started": "2023-10-06T14:19:33.080353Z",
     "shell.execute_reply": "2023-10-06T14:19:33.090417Z"
    },
    "trusted": true
   },
   "execution_count": null,
   "outputs": []
  },
  {
   "cell_type": "markdown",
   "source": [
    "We use GridSearchCV as a technique to systematically search through different combinations of hyperparameters to find the best set of hyperparameters for RF model."
   ],
   "metadata": {}
  },
  {
   "cell_type": "code",
   "source": [
    "# rf_param_grid = {\n",
    "#     'max_depth': [90, 100], # Maximum number of levels in each decision tree\n",
    "# #     'max_depth': [80, 90, 100],\n",
    "#     'max_features': [2, 3], # Maximum number of features considered for splitting a node\n",
    "#     'min_samples_leaf': [1, 3], # Minimum number of data points allowed in a leaf node\n",
    "# #     'min_samples_leaf': [1, 3, 4, 5],\n",
    "#     'n_estimators': [300, 600] # Number of trees in the forest\n",
    "# #     'n_estimators': [100, 300, 600]\n",
    "# }"
   ],
   "metadata": {
    "execution": {
     "iopub.status.busy": "2023-10-06T14:19:33.093379Z",
     "iopub.execute_input": "2023-10-06T14:19:33.094220Z",
     "iopub.status.idle": "2023-10-06T14:19:33.104820Z",
     "shell.execute_reply.started": "2023-10-06T14:19:33.094190Z",
     "shell.execute_reply": "2023-10-06T14:19:33.103560Z"
    },
    "trusted": true
   },
   "execution_count": null,
   "outputs": []
  },
  {
   "cell_type": "code",
   "source": [
    "# rf_reg = RandomForestRegressor(random_state = 42)\n",
    "# rf_grid = GridSearchCV(estimator = rf_reg, param_grid = rf_param_grid, cv=5, n_jobs=-1, verbose=2)"
   ],
   "metadata": {
    "execution": {
     "iopub.status.busy": "2023-10-06T14:19:33.117139Z",
     "iopub.execute_input": "2023-10-06T14:19:33.117500Z",
     "iopub.status.idle": "2023-10-06T14:19:33.124044Z",
     "shell.execute_reply.started": "2023-10-06T14:19:33.117474Z",
     "shell.execute_reply": "2023-10-06T14:19:33.122707Z"
    },
    "trusted": true
   },
   "execution_count": null,
   "outputs": []
  },
  {
   "cell_type": "code",
   "source": [
    "# rf_grid.fit(X_train, y_train)"
   ],
   "metadata": {
    "execution": {
     "iopub.status.busy": "2023-10-06T14:19:33.125469Z",
     "iopub.execute_input": "2023-10-06T14:19:33.125756Z",
     "iopub.status.idle": "2023-10-06T14:19:33.138673Z",
     "shell.execute_reply.started": "2023-10-06T14:19:33.125734Z",
     "shell.execute_reply": "2023-10-06T14:19:33.137605Z"
    },
    "trusted": true
   },
   "execution_count": null,
   "outputs": []
  },
  {
   "cell_type": "code",
   "source": [
    "# rf_grid.best_params_"
   ],
   "metadata": {
    "execution": {
     "iopub.status.busy": "2023-10-06T14:19:33.140413Z",
     "iopub.execute_input": "2023-10-06T14:19:33.140711Z",
     "iopub.status.idle": "2023-10-06T14:19:33.152879Z",
     "shell.execute_reply.started": "2023-10-06T14:19:33.140687Z",
     "shell.execute_reply": "2023-10-06T14:19:33.151903Z"
    },
    "trusted": true
   },
   "execution_count": null,
   "outputs": []
  },
  {
   "cell_type": "code",
   "source": [
    "# # Get best RF estimator based on best parameters gemerated from above\n",
    "# rf = rf_grid.best_estimator_"
   ],
   "metadata": {
    "execution": {
     "iopub.status.busy": "2023-10-06T14:19:33.154309Z",
     "iopub.execute_input": "2023-10-06T14:19:33.154624Z",
     "iopub.status.idle": "2023-10-06T14:19:33.167766Z",
     "shell.execute_reply.started": "2023-10-06T14:19:33.154597Z",
     "shell.execute_reply": "2023-10-06T14:19:33.166766Z"
    },
    "trusted": true
   },
   "execution_count": null,
   "outputs": []
  },
  {
   "cell_type": "markdown",
   "source": [
    "### Evaluation"
   ],
   "metadata": {}
  },
  {
   "cell_type": "markdown",
   "source": [
    "#### Evaluate the model on training dataset\n",
    "\n",
    "We first use metrics to evaluate the model performance on the training dataset."
   ],
   "metadata": {}
  },
  {
   "cell_type": "code",
   "source": [
    "# # Use RF regressor to predict on training set\n",
    "# y_pred_train = rf.predict(X_train)"
   ],
   "metadata": {
    "execution": {
     "iopub.status.busy": "2023-10-06T14:19:33.169397Z",
     "iopub.execute_input": "2023-10-06T14:19:33.169688Z",
     "iopub.status.idle": "2023-10-06T14:19:33.182393Z",
     "shell.execute_reply.started": "2023-10-06T14:19:33.169664Z",
     "shell.execute_reply": "2023-10-06T14:19:33.180976Z"
    },
    "trusted": true
   },
   "execution_count": null,
   "outputs": []
  },
  {
   "cell_type": "code",
   "source": [
    "# # Model evaluation metrics\n",
    "# print('R^2:',metrics.r2_score(y_train, y_pred_train))\n",
    "# print('Adjusted R^2:',1 - (1-metrics.r2_score(y_train, y_pred_train))*(len(y_train)-1)/(len(y_train)-X_train.shape[1]-1))\n",
    "# print('MAE:',metrics.mean_absolute_error(y_train, y_pred_train))\n",
    "# print('MSE:',metrics.mean_squared_error(y_train, y_pred_train))\n",
    "# print('RMSE:',np.sqrt(metrics.mean_squared_error(y_train, y_pred_train)))"
   ],
   "metadata": {
    "execution": {
     "iopub.status.busy": "2023-10-06T14:19:33.183953Z",
     "iopub.execute_input": "2023-10-06T14:19:33.184434Z",
     "iopub.status.idle": "2023-10-06T14:19:33.198866Z",
     "shell.execute_reply.started": "2023-10-06T14:19:33.184396Z",
     "shell.execute_reply": "2023-10-06T14:19:33.197628Z"
    },
    "trusted": true
   },
   "execution_count": null,
   "outputs": []
  },
  {
   "cell_type": "markdown",
   "source": [
    "#### Evaluate the model on testing dataset"
   ],
   "metadata": {}
  },
  {
   "cell_type": "code",
   "source": [
    "# y_pred_test = rf.predict(X_test)"
   ],
   "metadata": {
    "execution": {
     "iopub.status.busy": "2023-10-06T14:19:33.200355Z",
     "iopub.execute_input": "2023-10-06T14:19:33.200897Z",
     "iopub.status.idle": "2023-10-06T14:19:33.213250Z",
     "shell.execute_reply.started": "2023-10-06T14:19:33.200857Z",
     "shell.execute_reply": "2023-10-06T14:19:33.211903Z"
    },
    "trusted": true
   },
   "execution_count": null,
   "outputs": []
  },
  {
   "cell_type": "code",
   "source": [
    "# rf_dict = {'Model':'Random Forest Regressor',\n",
    "#           'R^2':metrics.r2_score(y_test, y_pred_test),\n",
    "#           'Adjusted R^2':(1 - (1-metrics.r2_score(y_test, y_pred_test))*(len(y_test)-1)/(len(y_test)-X_test.shape[1]-1)),\n",
    "#           'MAE':metrics.mean_absolute_error(y_test, y_pred_test),\n",
    "#           'MSE':metrics.mean_squared_error(y_test, y_pred_test),\n",
    "#           'RMSE':np.sqrt(metrics.mean_squared_error(y_test, y_pred_test))}\n",
    "\n",
    "# rf_metrics = pd.DataFrame.from_dict(rf_dict, orient = 'index').T\n",
    "\n",
    "# # Display model performance metrics\n",
    "# rf_metrics"
   ],
   "metadata": {
    "execution": {
     "iopub.status.busy": "2023-10-06T14:19:33.215574Z",
     "iopub.execute_input": "2023-10-06T14:19:33.216016Z",
     "iopub.status.idle": "2023-10-06T14:19:33.227982Z",
     "shell.execute_reply.started": "2023-10-06T14:19:33.215977Z",
     "shell.execute_reply": "2023-10-06T14:19:33.226877Z"
    },
    "trusted": true
   },
   "execution_count": null,
   "outputs": []
  },
  {
   "cell_type": "markdown",
   "source": [
    "### Analysis"
   ],
   "metadata": {}
  },
  {
   "cell_type": "markdown",
   "source": [
    "* **Importance of the features**"
   ],
   "metadata": {}
  },
  {
   "cell_type": "code",
   "source": [
    "# rf.feature_importances_"
   ],
   "metadata": {
    "execution": {
     "iopub.status.busy": "2023-10-06T14:19:33.229749Z",
     "iopub.execute_input": "2023-10-06T14:19:33.230575Z",
     "iopub.status.idle": "2023-10-06T14:19:33.241986Z",
     "shell.execute_reply.started": "2023-10-06T14:19:33.230534Z",
     "shell.execute_reply": "2023-10-06T14:19:33.240889Z"
    },
    "trusted": true
   },
   "execution_count": null,
   "outputs": []
  },
  {
   "cell_type": "code",
   "source": [
    "# rf_features = pd.DataFrame([X_train.columns, rf.feature_importances_]).T\n",
    "# rf_features = rf_features.rename(columns={0: 'Feature', 1: 'Importance Score'})\n",
    "# rf_features.sort_values(by = 'Importance Score', ascending = False)"
   ],
   "metadata": {
    "execution": {
     "iopub.status.busy": "2023-10-06T14:19:33.243464Z",
     "iopub.execute_input": "2023-10-06T14:19:33.243816Z",
     "iopub.status.idle": "2023-10-06T14:19:33.255821Z",
     "shell.execute_reply.started": "2023-10-06T14:19:33.243774Z",
     "shell.execute_reply": "2023-10-06T14:19:33.254502Z"
    },
    "trusted": true
   },
   "execution_count": null,
   "outputs": []
  },
  {
   "cell_type": "markdown",
   "source": [
    "</br>"
   ],
   "metadata": {}
  },
  {
   "cell_type": "markdown",
   "source": [
    "## 4.3 XGBoost Regressor"
   ],
   "metadata": {}
  },
  {
   "cell_type": "code",
   "source": [
    "# train_data_rf = train_data.copy()\n",
    "# # test_data_rf = test_data.copy()"
   ],
   "metadata": {
    "execution": {
     "iopub.status.busy": "2023-10-06T14:19:33.257472Z",
     "iopub.execute_input": "2023-10-06T14:19:33.257890Z",
     "iopub.status.idle": "2023-10-06T14:19:33.272763Z",
     "shell.execute_reply.started": "2023-10-06T14:19:33.257854Z",
     "shell.execute_reply": "2023-10-06T14:19:33.271341Z"
    },
    "trusted": true
   },
   "execution_count": null,
   "outputs": []
  },
  {
   "cell_type": "code",
   "source": [
    "# X_train = train_data_rf.drop(['monthly_rent'], axis = 1)\n",
    "# y_train = train_data_rf['monthly_rent']\n",
    "# # X_test = test_data_mlr.drop(['monthly_rent'], axis = 1)\n",
    "# # y_test = test_data_mlr['monthly_rent']"
   ],
   "metadata": {
    "execution": {
     "iopub.status.busy": "2023-10-06T14:19:33.273971Z",
     "iopub.execute_input": "2023-10-06T14:19:33.274589Z",
     "iopub.status.idle": "2023-10-06T14:19:33.283922Z",
     "shell.execute_reply.started": "2023-10-06T14:19:33.274404Z",
     "shell.execute_reply": "2023-10-06T14:19:33.283065Z"
    },
    "trusted": true
   },
   "execution_count": null,
   "outputs": []
  },
  {
   "cell_type": "markdown",
   "source": [
    "### Model Training"
   ],
   "metadata": {}
  },
  {
   "cell_type": "code",
   "source": [
    "# import xgboost as xgb\n",
    "# from xgboost import plot_importance"
   ],
   "metadata": {
    "execution": {
     "iopub.status.busy": "2023-10-06T14:19:33.285471Z",
     "iopub.execute_input": "2023-10-06T14:19:33.285969Z",
     "iopub.status.idle": "2023-10-06T14:19:33.298026Z",
     "shell.execute_reply.started": "2023-10-06T14:19:33.285940Z",
     "shell.execute_reply": "2023-10-06T14:19:33.296699Z"
    },
    "trusted": true
   },
   "execution_count": null,
   "outputs": []
  },
  {
   "cell_type": "code",
   "source": [
    "# xgb_param_grid = {\"learning_rate\": [0.05, 0.1, 0.2], # Step size shrinkage used in update to prevents overfitting.\n",
    "#                   \"max_depth\"        : [6, 8, 9, 10], # Maximum depth of a tree. \n",
    "#                   \"min_child_weight\" : [1, 3, 5, 7], # Minimum number of instances required in a child node\n",
    "#                   \"gamma\"            : [0.0, 0.1, 0.2, 0.3], # Minimum loss reduction required to make a further partition on a leaf node of the tree.\n",
    "#                   \"colsample_bytree\" : [0.3, 0.4, 0.6, 0.8] # Number of features supplied to a tree\n",
    "# }"
   ],
   "metadata": {
    "execution": {
     "iopub.status.busy": "2023-10-06T14:19:33.299343Z",
     "iopub.execute_input": "2023-10-06T14:19:33.299794Z",
     "iopub.status.idle": "2023-10-06T14:19:33.311227Z",
     "shell.execute_reply.started": "2023-10-06T14:19:33.299739Z",
     "shell.execute_reply": "2023-10-06T14:19:33.310387Z"
    },
    "trusted": true
   },
   "execution_count": null,
   "outputs": []
  },
  {
   "cell_type": "code",
   "source": [
    "# xgb_reg = xgb.XGBRegressor(seed = 42, objective ='reg:squarederror')\n",
    "# xgb_grid = GridSearchCV(estimator = xgb_reg, param_grid = xgb_param_grid, cv=5, n_jobs=-1, verbose=2)"
   ],
   "metadata": {
    "execution": {
     "iopub.status.busy": "2023-10-06T14:19:33.312613Z",
     "iopub.execute_input": "2023-10-06T14:19:33.312887Z",
     "iopub.status.idle": "2023-10-06T14:19:33.323591Z",
     "shell.execute_reply.started": "2023-10-06T14:19:33.312863Z",
     "shell.execute_reply": "2023-10-06T14:19:33.322538Z"
    },
    "trusted": true
   },
   "execution_count": null,
   "outputs": []
  },
  {
   "cell_type": "markdown",
   "source": [
    "**TO BE CHECKED!!! Failed**"
   ],
   "metadata": {}
  },
  {
   "cell_type": "code",
   "source": [
    "# xgb_grid.fit(X_train, y_train)"
   ],
   "metadata": {
    "execution": {
     "iopub.status.busy": "2023-10-06T14:19:33.324609Z",
     "iopub.execute_input": "2023-10-06T14:19:33.324859Z",
     "iopub.status.idle": "2023-10-06T14:19:33.336034Z",
     "shell.execute_reply.started": "2023-10-06T14:19:33.324838Z",
     "shell.execute_reply": "2023-10-06T14:19:33.335187Z"
    },
    "trusted": true
   },
   "execution_count": null,
   "outputs": []
  },
  {
   "cell_type": "code",
   "source": [
    "# xgb_grid.best_params_"
   ],
   "metadata": {
    "execution": {
     "iopub.status.busy": "2023-10-06T14:19:33.337613Z",
     "iopub.execute_input": "2023-10-06T14:19:33.338879Z",
     "iopub.status.idle": "2023-10-06T14:19:33.350107Z",
     "shell.execute_reply.started": "2023-10-06T14:19:33.338848Z",
     "shell.execute_reply": "2023-10-06T14:19:33.349123Z"
    },
    "trusted": true
   },
   "execution_count": null,
   "outputs": []
  },
  {
   "cell_type": "code",
   "source": [
    "# Get best XGBoost estimator based on best parameters gemerated from above\n",
    "# xgb = xgb_grid.best_estimator_"
   ],
   "metadata": {
    "execution": {
     "iopub.status.busy": "2023-10-06T14:19:33.351024Z",
     "iopub.execute_input": "2023-10-06T14:19:33.351342Z",
     "iopub.status.idle": "2023-10-06T14:19:33.367497Z",
     "shell.execute_reply.started": "2023-10-06T14:19:33.351317Z",
     "shell.execute_reply": "2023-10-06T14:19:33.365982Z"
    },
    "trusted": true
   },
   "execution_count": null,
   "outputs": []
  },
  {
   "cell_type": "markdown",
   "source": [
    "### Evaluation"
   ],
   "metadata": {}
  },
  {
   "cell_type": "markdown",
   "source": [
    "#### Evaluate the model on training dataset\n",
    "\n",
    "We first use metrics to evaluate the model performance on the training dataset."
   ],
   "metadata": {}
  },
  {
   "cell_type": "code",
   "source": [
    "# # Use XGBoost regressor to predict on training set\n",
    "# y_pred_train = xgb.predict(X_train)"
   ],
   "metadata": {
    "execution": {
     "iopub.status.busy": "2023-10-06T14:19:33.368506Z",
     "iopub.execute_input": "2023-10-06T14:19:33.368784Z",
     "iopub.status.idle": "2023-10-06T14:19:33.381263Z",
     "shell.execute_reply.started": "2023-10-06T14:19:33.368759Z",
     "shell.execute_reply": "2023-10-06T14:19:33.379857Z"
    },
    "trusted": true
   },
   "execution_count": null,
   "outputs": []
  },
  {
   "cell_type": "code",
   "source": [
    "# # Model evaluation metrics\n",
    "# print('R^2:',metrics.r2_score(y_train, y_pred_train))\n",
    "# print('Adjusted R^2:',1 - (1-metrics.r2_score(y_train, y_pred_train))*(len(y_train)-1)/(len(y_train)-X_train.shape[1]-1))\n",
    "# print('MAE:',metrics.mean_absolute_error(y_train, y_pred_train))\n",
    "# print('MSE:',metrics.mean_squared_error(y_train, y_pred_train))\n",
    "# print('RMSE:',np.sqrt(metrics.mean_squared_error(y_train, y_pred_train)))"
   ],
   "metadata": {
    "execution": {
     "iopub.status.busy": "2023-10-06T14:19:33.382421Z",
     "iopub.execute_input": "2023-10-06T14:19:33.382891Z",
     "iopub.status.idle": "2023-10-06T14:19:33.395646Z",
     "shell.execute_reply.started": "2023-10-06T14:19:33.382864Z",
     "shell.execute_reply": "2023-10-06T14:19:33.394733Z"
    },
    "trusted": true
   },
   "execution_count": null,
   "outputs": []
  },
  {
   "cell_type": "markdown",
   "source": [
    "#### Evaluate the model on testing dataset"
   ],
   "metadata": {}
  },
  {
   "cell_type": "code",
   "source": [
    "# y_pred_test = xgb.predict(X_test)"
   ],
   "metadata": {
    "execution": {
     "iopub.status.busy": "2023-10-06T14:19:33.396955Z",
     "iopub.execute_input": "2023-10-06T14:19:33.397295Z",
     "iopub.status.idle": "2023-10-06T14:19:33.414008Z",
     "shell.execute_reply.started": "2023-10-06T14:19:33.397268Z",
     "shell.execute_reply": "2023-10-06T14:19:33.413088Z"
    },
    "trusted": true
   },
   "execution_count": null,
   "outputs": []
  },
  {
   "cell_type": "code",
   "source": [
    "# xgb_dict = {'Model':'XGBoost Regressor',\n",
    "#           'R^2':metrics.r2_score(y_test, y_pred_test),\n",
    "#           'Adjusted R^2':(1 - (1-metrics.r2_score(y_test, y_pred_test))*(len(y_test)-1)/(len(y_test)-X_test.shape[1]-1)),\n",
    "#           'MAE':metrics.mean_absolute_error(y_test, y_pred_test),\n",
    "#           'MSE':metrics.mean_squared_error(y_test, y_pred_test),\n",
    "#           'RMSE':np.sqrt(metrics.mean_squared_error(y_test, y_pred_test))}\n",
    "\n",
    "# xgb_metrics = pd.DataFrame.from_dict(xgb_dict, orient = 'index').T\n",
    "\n",
    "# # Display model performance metrics\n",
    "# xgb_metrics"
   ],
   "metadata": {
    "execution": {
     "iopub.status.busy": "2023-10-06T14:19:33.415408Z",
     "iopub.execute_input": "2023-10-06T14:19:33.415895Z",
     "iopub.status.idle": "2023-10-06T14:19:33.427995Z",
     "shell.execute_reply.started": "2023-10-06T14:19:33.415861Z",
     "shell.execute_reply": "2023-10-06T14:19:33.426917Z"
    },
    "trusted": true
   },
   "execution_count": null,
   "outputs": []
  },
  {
   "cell_type": "markdown",
   "source": [
    "### Analysis"
   ],
   "metadata": {}
  },
  {
   "cell_type": "markdown",
   "source": [
    "* **Importance of the features**"
   ],
   "metadata": {}
  },
  {
   "cell_type": "code",
   "source": [
    "# xgb_features = pd.DataFrame([X_train.columns, xgb.feature_importances_]).T\n",
    "# xgb_features = xgb_features.rename(columns={0: 'Feature', 1: 'Importance Score'})\n",
    "# xgb_features.sort_values(by = 'Importance Score', ascending = False).head(15)"
   ],
   "metadata": {
    "execution": {
     "iopub.status.busy": "2023-10-06T14:19:33.429580Z",
     "iopub.execute_input": "2023-10-06T14:19:33.429889Z",
     "iopub.status.idle": "2023-10-06T14:19:33.443557Z",
     "shell.execute_reply.started": "2023-10-06T14:19:33.429866Z",
     "shell.execute_reply": "2023-10-06T14:19:33.442383Z"
    },
    "trusted": true
   },
   "execution_count": null,
   "outputs": []
  },
  {
   "cell_type": "code",
   "source": [
    "# plot_importance(xgb, max_num_features = 10)"
   ],
   "metadata": {
    "execution": {
     "iopub.status.busy": "2023-10-06T14:19:33.444896Z",
     "iopub.execute_input": "2023-10-06T14:19:33.445321Z",
     "iopub.status.idle": "2023-10-06T14:19:33.458960Z",
     "shell.execute_reply.started": "2023-10-06T14:19:33.445282Z",
     "shell.execute_reply": "2023-10-06T14:19:33.458082Z"
    },
    "trusted": true
   },
   "execution_count": null,
   "outputs": []
  },
  {
   "cell_type": "markdown",
   "source": [
    "</br>"
   ],
   "metadata": {}
  },
  {
   "cell_type": "markdown",
   "source": [
    "## 4.4 LightGBM Regressor"
   ],
   "metadata": {}
  },
  {
   "cell_type": "code",
   "source": [
    "# train_data_rf = train_data.copy()\n",
    "# # test_data_rf = test_data.copy()"
   ],
   "metadata": {
    "execution": {
     "iopub.status.busy": "2023-10-06T14:19:33.460234Z",
     "iopub.execute_input": "2023-10-06T14:19:33.460671Z",
     "iopub.status.idle": "2023-10-06T14:19:33.472781Z",
     "shell.execute_reply.started": "2023-10-06T14:19:33.460633Z",
     "shell.execute_reply": "2023-10-06T14:19:33.471562Z"
    },
    "trusted": true
   },
   "execution_count": null,
   "outputs": []
  },
  {
   "cell_type": "code",
   "source": [
    "# X_train = train_data_rf.drop(['monthly_rent'], axis = 1)\n",
    "# y_train = train_data_rf['monthly_rent']\n",
    "# # X_test = test_data_mlr.drop(['monthly_rent'], axis = 1)\n",
    "# # y_test = test_data_mlr['monthly_rent']"
   ],
   "metadata": {
    "execution": {
     "iopub.status.busy": "2023-10-06T14:19:33.474603Z",
     "iopub.execute_input": "2023-10-06T14:19:33.474949Z",
     "iopub.status.idle": "2023-10-06T14:19:33.488466Z",
     "shell.execute_reply.started": "2023-10-06T14:19:33.474923Z",
     "shell.execute_reply": "2023-10-06T14:19:33.487208Z"
    },
    "trusted": true
   },
   "execution_count": null,
   "outputs": []
  },
  {
   "cell_type": "markdown",
   "source": [
    "#### Model Training"
   ],
   "metadata": {}
  },
  {
   "cell_type": "code",
   "source": [
    "# import lightgbm as lgb"
   ],
   "metadata": {
    "execution": {
     "iopub.status.busy": "2023-10-06T14:19:33.489464Z",
     "iopub.execute_input": "2023-10-06T14:19:33.489802Z",
     "iopub.status.idle": "2023-10-06T14:19:33.501674Z",
     "shell.execute_reply.started": "2023-10-06T14:19:33.489762Z",
     "shell.execute_reply": "2023-10-06T14:19:33.500890Z"
    },
    "trusted": true
   },
   "execution_count": null,
   "outputs": []
  },
  {
   "cell_type": "code",
   "source": [
    "# gbm_param_grid = {'metric': ['rmse'],\n",
    "#                   'max_depth': [9,10,11,12,13], \n",
    "#                   'bagging_fraction': [0.8, 0.9, 1],\n",
    "#                   'feature_fraction': [0.8, 0.9, 1],\n",
    "#                   'min_data_in_leaf': [20,50,80],\n",
    "#                   'learning_rate': [0.01,0.05,0.1,0.2]}"
   ],
   "metadata": {
    "execution": {
     "iopub.status.busy": "2023-10-06T14:19:33.502506Z",
     "iopub.execute_input": "2023-10-06T14:19:33.502764Z",
     "iopub.status.idle": "2023-10-06T14:19:33.514567Z",
     "shell.execute_reply.started": "2023-10-06T14:19:33.502742Z",
     "shell.execute_reply": "2023-10-06T14:19:33.513466Z"
    },
    "trusted": true
   },
   "execution_count": null,
   "outputs": []
  },
  {
   "cell_type": "code",
   "source": [
    "# lgb_reg = lgb.LGBMRegressor(seed = 42, num_iterations = 1200)\n",
    "\n",
    "# lgb_grid = GridSearchCV(estimator = lgb_reg, param_grid = gbm_param_grid, cv=5, n_jobs=-1, verbose=1)"
   ],
   "metadata": {
    "execution": {
     "iopub.status.busy": "2023-10-06T14:19:33.515909Z",
     "iopub.execute_input": "2023-10-06T14:19:33.516237Z",
     "iopub.status.idle": "2023-10-06T14:19:33.528589Z",
     "shell.execute_reply.started": "2023-10-06T14:19:33.516209Z",
     "shell.execute_reply": "2023-10-06T14:19:33.527200Z"
    },
    "trusted": true
   },
   "execution_count": null,
   "outputs": []
  },
  {
   "cell_type": "markdown",
   "source": [
    "**TO BE CHECKED**"
   ],
   "metadata": {}
  },
  {
   "cell_type": "code",
   "source": [
    "#lgb_grid.fit(X_train, y_train)"
   ],
   "metadata": {
    "execution": {
     "iopub.status.busy": "2023-10-06T14:19:33.529567Z",
     "iopub.execute_input": "2023-10-06T14:19:33.529942Z",
     "iopub.status.idle": "2023-10-06T14:19:33.547733Z",
     "shell.execute_reply.started": "2023-10-06T14:19:33.529909Z",
     "shell.execute_reply": "2023-10-06T14:19:33.546842Z"
    },
    "trusted": true
   },
   "execution_count": null,
   "outputs": []
  },
  {
   "cell_type": "code",
   "source": [],
   "metadata": {},
   "execution_count": null,
   "outputs": []
  },
  {
   "cell_type": "markdown",
   "source": [
    "## 5. Model Comparison"
   ],
   "metadata": {}
  },
  {
   "cell_type": "code",
   "source": [
    "# df_metrics = pd.concat([mlr_metrics, rf_metrics, xgb_metrics, lgbm_metrics])\n",
    "# df_metrics.sort_values(by = 'RMSE', ascending = True)"
   ],
   "metadata": {
    "execution": {
     "iopub.status.busy": "2023-10-06T14:19:33.549346Z",
     "iopub.execute_input": "2023-10-06T14:19:33.549746Z",
     "iopub.status.idle": "2023-10-06T14:19:33.563760Z",
     "shell.execute_reply.started": "2023-10-06T14:19:33.549710Z",
     "shell.execute_reply": "2023-10-06T14:19:33.562778Z"
    },
    "trusted": true
   },
   "execution_count": null,
   "outputs": []
  },
  {
   "cell_type": "markdown",
   "source": [
    "See from the metrics comparison above, XXXXXXX achieves the best performance on the test set with an RMSE of XXXXXXX. "
   ],
   "metadata": {}
  },
  {
   "cell_type": "markdown",
   "source": [
    "# 5. Ensemble Models"
   ],
   "metadata": {}
  },
  {
   "cell_type": "markdown",
   "source": [
    "5.1 Baseline"
   ],
   "metadata": {}
  },
  {
   "cell_type": "code",
   "source": [
    "pip install d2l"
   ],
   "metadata": {
    "execution": {
     "iopub.status.busy": "2023-10-06T14:19:33.564775Z",
     "iopub.execute_input": "2023-10-06T14:19:33.565202Z",
     "iopub.status.idle": "2023-10-06T14:19:54.836555Z",
     "shell.execute_reply.started": "2023-10-06T14:19:33.565164Z",
     "shell.execute_reply": "2023-10-06T14:19:54.834725Z"
    },
    "trusted": true
   },
   "execution_count": null,
   "outputs": []
  },
  {
   "cell_type": "code",
   "source": [
    "%matplotlib inline\n",
    "import numpy as np\n",
    "import pandas as pd\n",
    "import torch\n",
    "from torch import nn\n",
    "from d2l import torch as d2l\n",
    "from scipy.stats import skew, norm\n",
    "from scipy.special import boxcox1p\n",
    "from scipy.stats import boxcox_normmax\n",
    "import matplotlib.pyplot as plt\n",
    "import seaborn as sns\n",
    "from sklearn.model_selection import ParameterGrid, KFold, cross_val_score, GridSearchCV\n",
    "from sklearn.preprocessing import LabelEncoder, RobustScaler\n",
    "from sklearn.base import BaseEstimator, TransformerMixin, RegressorMixin, clone\n",
    "from sklearn.metrics import mean_squared_error\n",
    "from sklearn.pipeline import make_pipeline\n",
    "from sklearn.ensemble import RandomForestRegressor, GradientBoostingRegressor\n",
    "from sklearn.linear_model import RidgeCV, ElasticNetCV, LassoCV, Lasso, ElasticNet, Ridge\n",
    "from sklearn.kernel_ridge import KernelRidge\n",
    "from sklearn.svm import SVR\n",
    "import xgboost as xgb\n",
    "import lightgbm as lgb\n",
    "from mlxtend.regressor import StackingCVRegressor"
   ],
   "metadata": {
    "execution": {
     "iopub.status.busy": "2023-10-06T14:19:54.839081Z",
     "iopub.execute_input": "2023-10-06T14:19:54.839477Z",
     "iopub.status.idle": "2023-10-06T14:19:56.414951Z",
     "shell.execute_reply.started": "2023-10-06T14:19:54.839438Z",
     "shell.execute_reply": "2023-10-06T14:19:56.413756Z"
    },
    "trusted": true
   },
   "execution_count": null,
   "outputs": []
  },
  {
   "cell_type": "code",
   "source": [
    "# *******************Linear model*******************\n",
    "def get_model():\n",
    "    net = nn.Sequential(nn.Linear(in_features, 64),\n",
    "                        nn.ReLU(),\n",
    "                        nn.Linear(64, 32),\n",
    "                        nn.ReLU(),\n",
    "                        nn.Linear(32, 1),)\n",
    "    return net\n",
    "\n",
    "def log_rmse(net, features, labels):\n",
    "    clipped_preds = torch.clamp(net(features), 1, float('inf'))\n",
    "    rmse = torch.sqrt(loss(torch.log(clipped_preds), torch.log(labels)))\n",
    "    return rmse.item()\n",
    "\n",
    "def train(net, train_features, train_labels, test_features, test_labels,\n",
    "          num_epochs, learning_rate, weight_decay, batch_size):\n",
    "    train_ls, test_ls = [], []\n",
    "    train_iter = d2l.load_array((train_features, train_labels), batch_size)\n",
    "    # Adam optimization\n",
    "    optimizer = torch.optim.Adam(net.parameters(),\n",
    "                                 lr = learning_rate,\n",
    "                                 weight_decay = weight_decay)\n",
    "    \n",
    "    for epoch in range(num_epochs):\n",
    "        for X, y in train_iter:\n",
    "            optimizer.zero_grad()\n",
    "            l = loss(net(X), y)\n",
    "            l.backward()\n",
    "            optimizer.step()\n",
    "        train_ls.append(log_rmse(net, train_features, train_labels))\n",
    "        if test_labels is not None:\n",
    "            test_ls.append(log_rmse(net, test_features, test_labels))\n",
    "    return train_ls, test_ls\n",
    "\n",
    "def get_k_fold_data(k, i, X, y):\n",
    "    assert k > 1\n",
    "    fold_size = X.shape[0] // k\n",
    "    X_train, y_train = None, None\n",
    "    for j in range(k):\n",
    "        idx = slice(j * fold_size, (j + 1) * fold_size)\n",
    "        X_part, y_part = X[idx, :], y[idx]\n",
    "        if j == i:\n",
    "            X_valid, y_valid = X_part, y_part\n",
    "        elif X_train is None:\n",
    "            X_train, y_train = X_part, y_part\n",
    "        else:\n",
    "            X_train = torch.cat([X_train, X_part], 0)\n",
    "            y_train = torch.cat([y_train, y_part], 0)\n",
    "    return X_train, y_train, X_valid, y_valid\n",
    "\n",
    "def k_fold(k, X_train, y_train, num_epochs, learning_rate, weight_decay,\n",
    "           batch_size):\n",
    "    train_l_sum, valid_l_sum = 0, 0\n",
    "    for i in range(k):\n",
    "        data = get_k_fold_data(k, i, X_train, y_train)\n",
    "        net = get_model()\n",
    "        train_ls, valid_ls = train(net, *data, num_epochs, learning_rate,\n",
    "                                   weight_decay, batch_size)\n",
    "        train_l_sum += train_ls[-1]\n",
    "        valid_l_sum += valid_ls[-1]\n",
    "        if i == 0:\n",
    "            d2l.plot(list(range(1, num_epochs + 1)), [train_ls, valid_ls],\n",
    "                     xlabel='epoch', ylabel='rmse', xlim=[1, num_epochs],\n",
    "                     legend=['train', 'valid'], yscale='log')\n",
    "        print(f'fold {i + 1}, train log rmse {float(train_ls[-1]):f}, '\n",
    "              f'valid log rmse {float(valid_ls[-1]):f}')\n",
    "    return train_l_sum / k, valid_l_sum / k\n",
    "\n",
    "def train_and_pred(train_features, test_features, train_labels, test_data,\n",
    "                   num_epochs, lr, weight_decay, batch_size):\n",
    "    net = get_model()\n",
    "    train_ls, _ = train(net, train_features, train_labels, None, None,\n",
    "                        num_epochs, lr, weight_decay, batch_size)\n",
    "    d2l.plot(np.arange(1, num_epochs + 1), [train_ls], xlabel='epoch',\n",
    "             ylabel='log rmse', xlim=[1, num_epochs], yscale='log')\n",
    "    print(f'train log rmse {float(train_ls[-1]):f}')\n",
    "    preds = net(test_features).detach().numpy()\n",
    "    df_id = pd.DataFrame([id for id in range(test_data.shape[0])], columns=['Id'])\n",
    "    test_data['Predicted'] = pd.Series(preds.reshape(1, -1)[0])\n",
    "    submission = pd.concat([df_id['Id'], test_data['Predicted']], axis=1)\n",
    "    return submission, train_ls"
   ],
   "metadata": {
    "execution": {
     "iopub.status.busy": "2023-10-06T14:19:56.417318Z",
     "iopub.execute_input": "2023-10-06T14:19:56.417652Z",
     "iopub.status.idle": "2023-10-06T14:19:56.437253Z",
     "shell.execute_reply.started": "2023-10-06T14:19:56.417623Z",
     "shell.execute_reply": "2023-10-06T14:19:56.435900Z"
    },
    "trusted": true
   },
   "execution_count": null,
   "outputs": []
  },
  {
   "cell_type": "code",
   "source": [
    "train_data.reset_index(drop=True, inplace=True)\n",
    "train_data.head()"
   ],
   "metadata": {
    "execution": {
     "iopub.status.busy": "2023-10-06T14:19:56.439317Z",
     "iopub.execute_input": "2023-10-06T14:19:56.439662Z",
     "iopub.status.idle": "2023-10-06T14:19:56.473508Z",
     "shell.execute_reply.started": "2023-10-06T14:19:56.439635Z",
     "shell.execute_reply": "2023-10-06T14:19:56.471592Z"
    },
    "trusted": true
   },
   "execution_count": null,
   "outputs": []
  },
  {
   "cell_type": "code",
   "source": [
    "train_len = train_data.shape[0] * 0.8\n",
    "numeric_attributes=['flat_type', 'floor_area_sqm', 'latitude', 'longitude']\n",
    "train_data_linear = train_data.loc[:train_len-1,numeric_attributes]\n",
    "train_data_rent = train_data.loc[:train_len-1,['monthly_rent']]\n",
    "train_data_rent.shape"
   ],
   "metadata": {
    "execution": {
     "iopub.status.busy": "2023-10-06T14:19:56.476640Z",
     "iopub.execute_input": "2023-10-06T14:19:56.477036Z",
     "iopub.status.idle": "2023-10-06T14:19:56.492500Z",
     "shell.execute_reply.started": "2023-10-06T14:19:56.477009Z",
     "shell.execute_reply": "2023-10-06T14:19:56.491424Z"
    },
    "trusted": true
   },
   "execution_count": null,
   "outputs": []
  },
  {
   "cell_type": "code",
   "source": [
    "test_data_linear = train_data.loc[train_len:,numeric_attributes]\n",
    "test_data_linear.head()\n",
    "print(train_data_linear.shape, test_data_linear.shape)"
   ],
   "metadata": {
    "execution": {
     "iopub.status.busy": "2023-10-06T14:19:56.494155Z",
     "iopub.execute_input": "2023-10-06T14:19:56.494591Z",
     "iopub.status.idle": "2023-10-06T14:19:56.510932Z",
     "shell.execute_reply.started": "2023-10-06T14:19:56.494560Z",
     "shell.execute_reply": "2023-10-06T14:19:56.509756Z"
    },
    "trusted": true
   },
   "execution_count": null,
   "outputs": []
  },
  {
   "cell_type": "code",
   "source": [
    "train_attributes = torch.tensor(train_data_linear.values, dtype=torch.float32)\n",
    "test_attributes = torch.tensor(test_data_linear.values, dtype=torch.float32)\n",
    "train_labels_linear = torch.tensor(train_data_rent.values.reshape(-1, 1), dtype=torch.float32)\n",
    "loss = nn.MSELoss()\n",
    "in_features = train_attributes.shape[1]"
   ],
   "metadata": {
    "execution": {
     "iopub.status.busy": "2023-10-06T14:19:56.512337Z",
     "iopub.execute_input": "2023-10-06T14:19:56.512714Z",
     "iopub.status.idle": "2023-10-06T14:19:56.569208Z",
     "shell.execute_reply.started": "2023-10-06T14:19:56.512684Z",
     "shell.execute_reply": "2023-10-06T14:19:56.568200Z"
    },
    "trusted": true
   },
   "execution_count": null,
   "outputs": []
  },
  {
   "cell_type": "code",
   "source": [
    "# train linear model\n",
    "k, num_epochs, lr, weight_decay, batch_size = 5, 600, 0.01, 0, 64 # adjust hyperparameter\n",
    "train_l, valid_l = k_fold(k, train_attributes, train_labels_linear, num_epochs, lr,\n",
    "                          weight_decay, batch_size)\n",
    "print(f'{k}-fold cross-validation: average train log rmse: {float(train_l):f}, '\n",
    "      f'average test log rmse: {float(valid_l):f}')"
   ],
   "metadata": {
    "execution": {
     "iopub.status.busy": "2023-10-06T14:19:56.570701Z",
     "iopub.execute_input": "2023-10-06T14:19:56.571034Z",
     "iopub.status.idle": "2023-10-06T15:08:04.567136Z",
     "shell.execute_reply.started": "2023-10-06T14:19:56.571006Z",
     "shell.execute_reply": "2023-10-06T15:08:04.565842Z"
    },
    "trusted": true
   },
   "execution_count": null,
   "outputs": []
  },
  {
   "cell_type": "code",
   "source": [
    "# predict linear model\n",
    "submission, train_ls = train_and_pred(train_attributes, test_attributes, train_labels_linear, test_data,\n",
    "               num_epochs, lr, weight_decay, batch_size)\n",
    "# score = self_evaluation(submission)\n",
    "submission.to_csv('/kaggle/working/submission_linear_rmsle'+str(float(train_ls[-1]))[:6]+'.csv', index=False)"
   ],
   "metadata": {
    "execution": {
     "iopub.status.busy": "2023-10-06T15:08:04.568974Z",
     "iopub.execute_input": "2023-10-06T15:08:04.569408Z",
     "iopub.status.idle": "2023-10-06T15:20:43.260656Z",
     "shell.execute_reply.started": "2023-10-06T15:08:04.569370Z",
     "shell.execute_reply": "2023-10-06T15:20:43.259290Z"
    },
    "trusted": true
   },
   "execution_count": null,
   "outputs": []
  },
  {
   "cell_type": "code",
   "source": [
    "# Define error metrics\n",
    "def rmse(y, y_pred):\n",
    "    return np.sqrt(mean_squared_error(y, y_pred))\n",
    "\n",
    "# k-fold Cross Validation\n",
    "# set verbose=3 for more details\n",
    "def rmsle_cross_val(X_train, y_train, n_folds, model):\n",
    "    kf = KFold(n_folds, shuffle=True, random_state=42).get_n_splits(X_train.values)\n",
    "    rmse= np.sqrt(-cross_val_score(model, X_train.values, y_train, scoring=\"neg_mean_squared_error\", cv = kf))\n",
    "    return rmse\n",
    "\n",
    "kfolds = KFold(n_splits=5, shuffle=True, random_state=42)"
   ],
   "metadata": {
    "execution": {
     "iopub.status.busy": "2023-10-06T15:20:43.262626Z",
     "iopub.execute_input": "2023-10-06T15:20:43.263026Z",
     "iopub.status.idle": "2023-10-06T15:20:43.271001Z",
     "shell.execute_reply.started": "2023-10-06T15:20:43.262998Z",
     "shell.execute_reply": "2023-10-06T15:20:43.269818Z"
    },
    "trusted": true
   },
   "execution_count": null,
   "outputs": []
  },
  {
   "cell_type": "code",
   "source": [
    "# *******************Lasso model*******************\n",
    "# lasso_alphas = [0.00001, 0.00005, 0.0001, 0.0002, 0.0003, 0.0004, 0.0005]\n",
    "# model_lasso = make_pipeline(RobustScaler(), LassoCV(max_iter=1000,alphas =lasso_alphas, random_state=42, cv=kfolds))\n",
    "# model_lasso = make_pipeline(RobustScaler(), Lasso(max_iter=1000, alpha =0.00005, random_state=42))\n",
    "model_lasso = Lasso(max_iter=1000, alpha =0.00005, tol=0.1, random_state=42)\n",
    "score_lasso = rmsle_cross_val(train_data_linear, train_data_rent, 5, model_lasso)\n",
    "print(\"Lasso score: {:.4f} ({:.4f})\\n\".format(score_lasso.mean(), score_lasso.std()))\n",
    "model_lasso.fit(train_data_linear.values, train_data_rent.values)\n",
    "model_lasso_pred = model_lasso.predict(test_data_linear.values)\n",
    "df_id = pd.DataFrame([id for id in range(test_data.shape[0])], columns=['Id'])\n",
    "df_pred = pd.DataFrame(pd.Series(model_lasso_pred), columns = ['Predicted'])\n",
    "model_lasso_pred, df_pred['Predicted']\n",
    "submission = pd.concat([df_id['Id'], df_pred['Predicted']], axis=1)\n",
    "# self_evaluation(submission)\n",
    "submission.to_csv('/kaggle/working/submission_lasso_rmse'+str(float(score_lasso.mean()))[:7]+'.csv', index=False)"
   ],
   "metadata": {
    "execution": {
     "iopub.status.busy": "2023-10-06T15:20:43.273302Z",
     "iopub.execute_input": "2023-10-06T15:20:43.273772Z",
     "iopub.status.idle": "2023-10-06T15:20:43.951562Z",
     "shell.execute_reply.started": "2023-10-06T15:20:43.273727Z",
     "shell.execute_reply": "2023-10-06T15:20:43.950035Z"
    },
    "trusted": true
   },
   "execution_count": null,
   "outputs": []
  },
  {
   "cell_type": "code",
   "source": [
    "# *******************ENet model*******************\n",
    "# enet_alphas = [0.0001, 0.0002, 0.0003, 0.0004, 0.0005, 0.0006, 0.0007]\n",
    "# enet_l1ratio = [0.8, 0.85, 0.9, 0.95, 0.99, 1]\n",
    "model_ENet = make_pipeline(RobustScaler(), ElasticNet(max_iter=3000, alpha=0.0005, l1_ratio=0.8, tol=0.2, random_state=42))\n",
    "score_ENet = rmsle_cross_val(train_data_linear, train_data_rent, 5, model_ENet)\n",
    "print(\"ElasticNet score: {:.4f} ({:.4f})\\n\".format(score_ENet.mean(), score_ENet.std()))\n",
    "model_ENet.fit(train_data_linear.values, train_data_rent.values)\n",
    "model_ENet_pred = model_ENet.predict(test_data_linear.values)\n",
    "df_id = pd.DataFrame([id for id in range(test_data.shape[0])], columns=['Id'])\n",
    "df_pred = pd.DataFrame(pd.Series(model_ENet_pred), columns = ['Predicted'])\n",
    "submission = pd.concat([df_id['Id'], df_pred['Predicted']], axis=1)\n",
    "# self_evaluation(submission)\n",
    "submission.to_csv('/kaggle/working/submission_enet_rmse'+str(float(score_ENet.mean()))[:7]+'.csv', index=False)"
   ],
   "metadata": {
    "execution": {
     "iopub.status.busy": "2023-10-06T15:20:43.953066Z",
     "iopub.execute_input": "2023-10-06T15:20:43.953437Z",
     "iopub.status.idle": "2023-10-06T15:20:44.753932Z",
     "shell.execute_reply.started": "2023-10-06T15:20:43.953408Z",
     "shell.execute_reply": "2023-10-06T15:20:44.752775Z"
    },
    "trusted": true
   },
   "execution_count": null,
   "outputs": []
  },
  {
   "cell_type": "code",
   "source": [
    "# *******************Ridge model*******************\n",
    "ridge_alphas = [1e-2, 0.1, 0.3, 1, 3, 5, 10, 15, 18, 20, 30, 50, 75, 100]\n",
    "model_ridge = make_pipeline(RobustScaler(), RidgeCV(alphas=ridge_alphas, cv=kfolds))\n",
    "# model_ridge = make_pipeline(RobustScaler(), Ridge(max_iter=1000, alpha=0.1))\n",
    "score_ridge = rmsle_cross_val(train_data_linear, train_data_rent, 5, model_ridge)\n",
    "print(\"Ridge score: {:.4f} ({:.4f})\\n\".format(score_ridge.mean(), score_ridge.std()))\n",
    "model_ridge.fit(train_data_linear.values, train_data_rent.values)\n",
    "model_ridge_pred = model_ENet.predict(test_data_linear.values)\n",
    "df_id = pd.DataFrame([id for id in range(test_data.shape[0])], columns=['Id'])\n",
    "df_pred = pd.DataFrame(pd.Series(model_ridge_pred), columns = ['Predicted'])\n",
    "submission = pd.concat([df_id['Id'], df_pred['Predicted']], axis=1)\n",
    "# self_evaluation(submission)\n",
    "submission.to_csv('/kaggle/working/submission_ridge_rmse'+str(float(score_ridge.mean()))[:7]+'.csv', index=False)"
   ],
   "metadata": {
    "execution": {
     "iopub.status.busy": "2023-10-06T15:20:44.755429Z",
     "iopub.execute_input": "2023-10-06T15:20:44.756841Z",
     "iopub.status.idle": "2023-10-06T15:20:52.423907Z",
     "shell.execute_reply.started": "2023-10-06T15:20:44.756796Z",
     "shell.execute_reply": "2023-10-06T15:20:52.422548Z"
    },
    "trusted": true
   },
   "execution_count": null,
   "outputs": []
  },
  {
   "cell_type": "code",
   "source": [
    "# *******************SVR model*******************\n",
    "# C = [0.1, 0.5, 1, 50, 100, 1000]\n",
    "# epsilon = [0.0001, 0.0005, 0.001, 0.005, 0.01, 0.05, 0.1, 0.5, 1, 5, 10]\n",
    "# C:5 - 0.1163 (0.0032), C:10 - 0.1140 (0.0034), epsilon: 0.05 - 0.1105 (0.0039)\n",
    "model_svr = make_pipeline(RobustScaler(), SVR(C=10, epsilon=0.05, gamma='scale'))\n",
    "score_svr = rmsle_cross_val(train_data_linear, np.log(train_data_rent), 5, model_svr)\n",
    "print(\"SVR score: {:.4f} ({:.4f})\\n\".format(score_svr.mean(), score_svr.std()))\n",
    "\n",
    "model_svr.fit(train_data_linear.values, np.log(train_data_rent.values))\n",
    "model_svr_pred = model_svr.predict(test_data_linear.values)\n",
    "df_id = pd.DataFrame([id for id in range(test_data.shape[0])], columns=['Id'])\n",
    "df_pred = pd.DataFrame(pd.Series(np.exp(model_svr_pred)), columns = ['Predicted'])\n",
    "submission = pd.concat([df_id['Id'], df_pred['Predicted']], axis=1)\n",
    "# self_evaluation(submission)\n",
    "submission.to_csv('/kaggle/working/submission_svr_rmsle'+str(float(score_svr.mean()))[:7]+'.csv', index=False)"
   ],
   "metadata": {
    "execution": {
     "iopub.status.busy": "2023-10-06T15:20:52.425573Z",
     "iopub.execute_input": "2023-10-06T15:20:52.426460Z",
     "iopub.status.idle": "2023-10-06T15:31:35.873906Z",
     "shell.execute_reply.started": "2023-10-06T15:20:52.426417Z",
     "shell.execute_reply": "2023-10-06T15:31:35.872625Z"
    },
    "trusted": true
   },
   "execution_count": null,
   "outputs": []
  },
  {
   "cell_type": "code",
   "source": [
    "test_data.head()"
   ],
   "metadata": {
    "execution": {
     "iopub.status.busy": "2023-10-06T15:31:35.875555Z",
     "iopub.execute_input": "2023-10-06T15:31:35.875847Z",
     "iopub.status.idle": "2023-10-06T15:31:35.891942Z",
     "shell.execute_reply.started": "2023-10-06T15:31:35.875823Z",
     "shell.execute_reply": "2023-10-06T15:31:35.890780Z"
    },
    "trusted": true
   },
   "execution_count": null,
   "outputs": []
  },
  {
   "cell_type": "code",
   "source": [
    "train_data.head()"
   ],
   "metadata": {
    "execution": {
     "iopub.status.busy": "2023-10-06T15:31:35.893937Z",
     "iopub.execute_input": "2023-10-06T15:31:35.894320Z",
     "iopub.status.idle": "2023-10-06T15:31:35.918874Z",
     "shell.execute_reply.started": "2023-10-06T15:31:35.894291Z",
     "shell.execute_reply": "2023-10-06T15:31:35.917191Z"
    },
    "trusted": true
   },
   "execution_count": null,
   "outputs": []
  },
  {
   "cell_type": "code",
   "source": [
    "# init train data and test data for non-linear model\n",
    "all_data_ensemble = train_data.copy()\n",
    "# test_data_linear = train_data.loc[train_len*0.8:,numeric_attributes]\n",
    "train_data_ensemble = train_data.copy().drop(columns = ['monthly_rent'])\n",
    "test_data_ensemble = test_data.copy().drop(columns = ['Predicted'])\n",
    "train_data_rent = train_data.loc[:train_len/0.8,['monthly_rent']]\n",
    "train_data_ensemble.shape, test_data_ensemble.shape"
   ],
   "metadata": {
    "execution": {
     "iopub.status.busy": "2023-10-06T15:31:35.921078Z",
     "iopub.execute_input": "2023-10-06T15:31:35.921991Z",
     "iopub.status.idle": "2023-10-06T15:31:35.956920Z",
     "shell.execute_reply.started": "2023-10-06T15:31:35.921948Z",
     "shell.execute_reply": "2023-10-06T15:31:35.956047Z"
    },
    "trusted": true
   },
   "execution_count": null,
   "outputs": []
  },
  {
   "cell_type": "code",
   "source": [
    "# *******************Random Forest model*******************\n",
    "# use grid search to produce a baseline rf model\n",
    "model_rf = RandomForestRegressor(oob_score=True, random_state=3, n_jobs=-1)\n",
    "params ={\n",
    "    'n_estimators': [1300],# [800, 900, 1000, 1200, 1500],\n",
    "    'min_samples_leaf': [1],# [1, 2, 3, 5, 10, 25],\n",
    "    'max_features': [0.5],# [None, 0.5, 'sqrt', 'log2'],\n",
    "    'max_depth': [35],# [5, 6, 7, 8, 10, 15, 20],\n",
    "    'min_samples_split': [2]# [2, 3, 4]\n",
    "}\n",
    "\n",
    "best_score = 0\n",
    "for g in ParameterGrid(params):\n",
    "    model_rf.set_params(**g)\n",
    "    model_rf.fit(train_data_ensemble, train_data_rent)\n",
    "    if model_rf.oob_score_ > best_score:\n",
    "        best_score = model_rf.oob_score_\n",
    "        best_grid = g\n",
    "        print('oob:', best_score, best_grid)\n",
    "# oob: 0.9764868974915827 {'max_depth': 35, 'max_features': 0.5, 'min_samples_leaf': 1, 'min_samples_split': 2, 'n_estimators': 1300}"
   ],
   "metadata": {
    "execution": {
     "iopub.status.busy": "2023-10-06T15:31:35.958263Z",
     "iopub.execute_input": "2023-10-06T15:31:35.959324Z",
     "iopub.status.idle": "2023-10-06T15:33:14.940645Z",
     "shell.execute_reply.started": "2023-10-06T15:31:35.959290Z",
     "shell.execute_reply": "2023-10-06T15:33:14.938952Z"
    },
    "trusted": true
   },
   "execution_count": null,
   "outputs": []
  },
  {
   "cell_type": "code",
   "source": [
    "# check feature importance\n",
    "def RF_importance(m, df):\n",
    "    return pd.DataFrame({'cols':df.columns, 'imp':m.feature_importances_}).sort_values('imp', ascending=False)\n",
    "\n",
    "model_rf = RandomForestRegressor(n_jobs=-1, n_estimators=1300, oob_score=True, max_depth=35, min_samples_leaf=1, min_samples_split=2, max_features=0.5)\n",
    "model_rf.fit(train_data_ensemble, train_data_rent)\n",
    "feature_imp = RF_importance(model_rf, train_data_ensemble)\n",
    "print(model_rf.oob_score_)\n",
    "print(feature_imp)"
   ],
   "metadata": {
    "execution": {
     "iopub.status.busy": "2023-10-06T15:33:14.942170Z",
     "iopub.execute_input": "2023-10-06T15:33:14.943148Z",
     "iopub.status.idle": "2023-10-06T15:34:53.209411Z",
     "shell.execute_reply.started": "2023-10-06T15:33:14.943109Z",
     "shell.execute_reply": "2023-10-06T15:34:53.208060Z"
    },
    "trusted": true
   },
   "execution_count": null,
   "outputs": []
  },
  {
   "cell_type": "code",
   "source": [
    "# feature selection\n",
    "Threshold = 0.0009\n",
    "to_keep = feature_imp[feature_imp.imp>Threshold].cols\n",
    "to_keep = [col for _, col in to_keep.items()]\n",
    "print(to_keep)\n",
    "df_keep = train_data_ensemble[to_keep].copy()\n",
    "model_rf = RandomForestRegressor(n_jobs=-1, n_estimators=1300, oob_score=True, max_depth=35, min_samples_leaf=1, min_samples_split=2, max_features=0.5)\n",
    "model_rf.fit(df_keep, train_data_rent)\n",
    "score_rf = rmsle_cross_val(train_data_ensemble, train_data_rent, 5, model_rf)\n",
    "print(model_rf.oob_score_, score_rf.mean())"
   ],
   "metadata": {
    "execution": {
     "iopub.status.busy": "2023-10-06T15:34:53.210951Z",
     "iopub.execute_input": "2023-10-06T15:34:53.211387Z",
     "iopub.status.idle": "2023-10-06T15:42:59.011796Z",
     "shell.execute_reply.started": "2023-10-06T15:34:53.211348Z",
     "shell.execute_reply": "2023-10-06T15:42:59.009958Z"
    },
    "trusted": true
   },
   "execution_count": null,
   "outputs": []
  },
  {
   "cell_type": "code",
   "source": [
    "# deep selection\n",
    "# keep_cols imp >= 0.01\n",
    "keep_cols = ['rent_approval_date', 'latitude', 'longitude', 'floor_area_sqm', 'flat_type', 'lease_commence_date', 'flat_model', 'planning_area', 'town', 'region']\n",
    "cols = to_keep\n",
    "scores = []\n",
    "feats = []\n",
    "for col in cols:\n",
    "    tmp = to_keep.copy()\n",
    "    if col in keep_cols:\n",
    "        continue\n",
    "    tmp.remove(col)\n",
    "    df_tmp = train_data_ensemble[tmp].copy()\n",
    "    model_rf = RandomForestRegressor(n_jobs=-1, n_estimators=1300, oob_score=True, max_depth=35, min_samples_leaf=1, min_samples_split=2, max_features=0.5)\n",
    "    model_rf.fit(df_tmp, train_data_rent)\n",
    "    scores.append(model_rf.oob_score_)\n",
    "    feats.append(col)\n",
    "\n",
    "to_del = sorted(zip(scores, feats), reverse=True)\n",
    "to_del"
   ],
   "metadata": {
    "execution": {
     "iopub.status.busy": "2023-10-06T15:42:59.013640Z",
     "iopub.execute_input": "2023-10-06T15:42:59.014077Z",
     "iopub.status.idle": "2023-10-06T15:42:59.023817Z",
     "shell.execute_reply.started": "2023-10-06T15:42:59.014036Z",
     "shell.execute_reply": "2023-10-06T15:42:59.022755Z"
    },
    "trusted": true
   },
   "execution_count": null,
   "outputs": []
  },
  {
   "cell_type": "code",
   "source": [
    "# fine-tuning\n",
    "# delete increase less than 0.0001\n",
    "to_keep_final = ['latitude', 'lease_commence_date', 'longitude', 'flat_type', 'flat_model', 'floor_area_sqm', \n",
    "                 'rent_approval_date']\n",
    "train_data_final = train_data_ensemble[to_keep_final].copy()\n",
    "model_rf = RandomForestRegressor(oob_score=True, n_jobs=-1)\n",
    "params ={\n",
    "    'n_estimators': [1200, 1250,1280],# [1200, 1250, 1280, 1300, 1350, 1400],\n",
    "    'min_samples_leaf': [1],# [1, 2, 3, 5, 10, 25],\n",
    "    'max_features': [0.5],# [0.5, 'sqrt', 'log2'],\n",
    "    'max_depth': [35],# [5, 6, 7, 8],\n",
    "    'min_samples_split': [2]# [2, 3, 4]\n",
    "}\n",
    "\n",
    "best_score = 0\n",
    "for g in ParameterGrid(params):\n",
    "    model_rf.set_params(**g)\n",
    "    model_rf.fit(train_data_final, train_data_rent)\n",
    "    if model_rf.oob_score_ > best_score:\n",
    "        score_rf = rmsle_cross_val(train_data_final, train_data_rent, 5, model_rf)\n",
    "        best_score = model_rf.oob_score_\n",
    "        best_grid = g\n",
    "        print('best oob:', best_score, best_grid, 'score:', score_rf.mean())"
   ],
   "metadata": {
    "execution": {
     "iopub.status.busy": "2023-10-06T15:42:59.025208Z",
     "iopub.execute_input": "2023-10-06T15:42:59.026138Z",
     "iopub.status.idle": "2023-10-06T15:51:28.580156Z",
     "shell.execute_reply.started": "2023-10-06T15:42:59.026081Z",
     "shell.execute_reply": "2023-10-06T15:51:28.578868Z"
    },
    "trusted": true
   },
   "execution_count": null,
   "outputs": []
  },
  {
   "cell_type": "code",
   "source": [
    "model_rf = RandomForestRegressor(n_jobs=-1, n_estimators=1250, max_depth=35, min_samples_leaf=1, min_samples_split=2, max_features=0.5)\n",
    "model_rf.fit(train_data_final, train_data_rent)"
   ],
   "metadata": {
    "execution": {
     "iopub.status.busy": "2023-10-06T15:51:28.582492Z",
     "iopub.execute_input": "2023-10-06T15:51:28.582942Z",
     "iopub.status.idle": "2023-10-06T15:52:31.085529Z",
     "shell.execute_reply.started": "2023-10-06T15:51:28.582903Z",
     "shell.execute_reply": "2023-10-06T15:52:31.084058Z"
    },
    "trusted": true
   },
   "execution_count": null,
   "outputs": []
  },
  {
   "cell_type": "code",
   "source": [
    "test_data_final = test_data_ensemble[to_keep_final]\n",
    "# print(test_data_final)\n",
    "model_rf_pred=model_rf.predict(test_data_final)\n",
    "df_id = pd.DataFrame([id for id in range(test_data.shape[0])], columns=['Id'])\n",
    "df_pred = pd.DataFrame(pd.Series(model_rf_pred), columns = ['Predicted'])\n",
    "submission = pd.concat([df_id['Id'], df_pred['Predicted']], axis=1)\n",
    "# self_evaluation(submission)\n",
    "submission.to_csv('/kaggle/working/submission_rf_'+str(best_score)[:7]+'.csv', index=False)"
   ],
   "metadata": {
    "execution": {
     "iopub.status.busy": "2023-10-06T15:52:31.086932Z",
     "iopub.execute_input": "2023-10-06T15:52:31.087293Z",
     "iopub.status.idle": "2023-10-06T15:52:35.884954Z",
     "shell.execute_reply.started": "2023-10-06T15:52:31.087266Z",
     "shell.execute_reply": "2023-10-06T15:52:35.883610Z"
    },
    "trusted": true
   },
   "execution_count": null,
   "outputs": []
  },
  {
   "cell_type": "code",
   "source": [
    "# *******************GBoost model*******************\n",
    "model_GBoost = GradientBoostingRegressor(n_estimators=7000, learning_rate=0.1,\n",
    "                                   max_depth=5, max_features='sqrt',\n",
    "                                   min_samples_leaf=15, min_samples_split=10, \n",
    "                                   loss='huber', random_state =42)\n",
    "score_GBoost = rmsle_cross_val(train_data_ensemble, np.log(train_data_rent), 5, model_GBoost)\n",
    "print(\"GradientBoostingRegressor score: {:.4f} ({:.4f})\\n\".format(score_GBoost.mean(), score_GBoost.std()))\n",
    "\n",
    "model_GBoost.fit(train_data_ensemble.values, train_data_rent.values)\n",
    "model_gb_pred = model_GBoost.predict(test_data_ensemble.values)\n",
    "df_id = pd.DataFrame([id for id in range(test_data.shape[0])], columns=['Id'])\n",
    "df_pred = pd.DataFrame(pd.Series(model_gb_pred), columns = ['Predicted'])\n",
    "submission = pd.concat([df_id['Id'], df_pred['Predicted']], axis=1)\n",
    "# self_evaluation(submission)\n",
    "submission.to_csv('/kaggle/working/submission_gb_rmsle'+str(float(score_GBoost.mean()))[:7]+'.csv', index=False)"
   ],
   "metadata": {
    "execution": {
     "iopub.status.busy": "2023-10-06T15:52:35.886600Z",
     "iopub.execute_input": "2023-10-06T15:52:35.887701Z",
     "iopub.status.idle": "2023-10-06T16:35:28.050966Z",
     "shell.execute_reply.started": "2023-10-06T15:52:35.887657Z",
     "shell.execute_reply": "2023-10-06T16:35:28.048631Z"
    },
    "trusted": true
   },
   "execution_count": null,
   "outputs": []
  },
  {
   "cell_type": "code",
   "source": [
    "# *******************XGB model*******************\n",
    "# xgb_params = dict(\n",
    "#     max_depth=6,           # maximum depth of each tree - try 2 to 10\n",
    "#     learning_rate=0.01,    # effect of each tree - try 0.0001 to 0.1\n",
    "#     n_estimators=1000,     # number of trees (that is, boosting rounds) - try 1000 to 8000\n",
    "#     min_child_weight=1,    # minimum number of houses in a leaf - try 1 to 10\n",
    "#     colsample_bytree=0.7,  # fraction of features (columns) per tree - try 0.2 to 1.0\n",
    "#     subsample=0.7,         # fraction of instances (rows) per tree - try 0.2 to 1.0\n",
    "#     reg_alpha=0.5,         # L1 regularization (like LASSO) - try 0.0 to 10.0\n",
    "#     reg_lambda=1.0,        # L2 regularization (like Ridge) - try 0.0 to 10.0\n",
    "#     num_parallel_tree=1,   # set > 1 for boosted random forests\n",
    "# )\n",
    "model_xgb = xgb.XGBRegressor(learning_rate=0.01, gamma=0,\n",
    "                             max_depth=5, min_child_weight = 1,\n",
    "                             n_estimators=6000, colsample_bytree=0.6,\n",
    "                             reg_alpha=0.5, reg_lambda=1.0,\n",
    "                             subsample=0.7, random_state = 42, nthread = -1)\n",
    "score_xgb = rmsle_cross_val(train_data_ensemble, np.log(train_data_rent), 5, model_xgb)\n",
    "print(\"XGB score: {:.4f} ({:.4f})\\n\".format(score_xgb.mean(), score_xgb.std()))\n",
    "\n",
    "model_xgb.fit(train_data_ensemble.values, train_data_rent.values)\n",
    "model_xgb_pred = model_xgb.predict(test_data_ensemble.values)\n",
    "df_id = pd.DataFrame([id for id in range(test_data.shape[0])], columns=['Id'])\n",
    "df_pred = pd.DataFrame(pd.Series(model_xgb_pred), columns = ['Predicted'])\n",
    "submission = pd.concat([df_id['Id'], df_pred['Predicted']], axis=1)\n",
    "# self_evaluation(submission)\n",
    "submission.to_csv('/kaggle/working/submission_xgb_rmsle'+str(float(score_xgb.mean()))[:7]+'.csv', index=False)"
   ],
   "metadata": {
    "execution": {
     "iopub.status.busy": "2023-10-06T16:35:28.055764Z",
     "iopub.execute_input": "2023-10-06T16:35:28.056400Z",
     "iopub.status.idle": "2023-10-06T16:46:53.381714Z",
     "shell.execute_reply.started": "2023-10-06T16:35:28.056354Z",
     "shell.execute_reply": "2023-10-06T16:46:53.380244Z"
    },
    "trusted": true
   },
   "execution_count": null,
   "outputs": []
  },
  {
   "cell_type": "code",
   "source": [
    "# *******************LightGBM model*******************\n",
    "# Use large max_bin (may be slower)\n",
    "# Use small learning_rate with large num_iterations\n",
    "# Use large num_leaves (may cause over-fitting)\n",
    "model_lgb = lgb.LGBMRegressor(objective='regression', \n",
    "                       num_leaves=25, learning_rate=0.05, \n",
    "                       max_bin = 200, n_estimators=1000,\n",
    "                       random_state=42)\n",
    "score_lgb = rmsle_cross_val(train_data_ensemble, np.log(train_data_rent), 5, model_lgb)\n",
    "print(\"LGB score: {:.4f} ({:.4f})\\n\".format(score_lgb.mean(), score_lgb.std()))\n",
    "\n",
    "model_lgb.fit(train_data_ensemble.values, train_data_rent.values)\n",
    "model_lgb_pred = model_lgb.predict(test_data_ensemble.values)\n",
    "df_id = pd.DataFrame([id for id in range(test_data.shape[0])], columns=['Id'])\n",
    "df_pred = pd.DataFrame(pd.Series(model_lgb_pred), columns = ['Predicted'])\n",
    "submission = pd.concat([df_id['Id'], df_pred['Predicted']], axis=1)\n",
    "# self_evaluation(submission)\n",
    "submission.to_csv('/kaggle/working/submission_lgb_rmsle'+str(float(score_lgb.mean()))[:7]+'.csv', index=False)"
   ],
   "metadata": {
    "execution": {
     "iopub.status.busy": "2023-10-06T16:46:53.383903Z",
     "iopub.execute_input": "2023-10-06T16:46:53.385352Z",
     "iopub.status.idle": "2023-10-06T16:47:09.519782Z",
     "shell.execute_reply.started": "2023-10-06T16:46:53.385306Z",
     "shell.execute_reply": "2023-10-06T16:47:09.518595Z"
    },
    "trusted": true
   },
   "execution_count": null,
   "outputs": []
  },
  {
   "cell_type": "code",
   "source": [
    "# *******************RF model*******************\n",
    "model_RF = RandomForestRegressor(n_jobs=-1, n_estimators=1250, oob_score=True, max_depth=35, min_samples_leaf=1, min_samples_split=2, max_features=0.5)\n",
    "model_RF.fit(train_data_ensemble.values, train_data_rent.values)"
   ],
   "metadata": {
    "execution": {
     "iopub.status.busy": "2023-10-06T16:47:09.521612Z",
     "iopub.execute_input": "2023-10-06T16:47:09.522837Z",
     "iopub.status.idle": "2023-10-06T16:48:46.147211Z",
     "shell.execute_reply.started": "2023-10-06T16:47:09.522788Z",
     "shell.execute_reply": "2023-10-06T16:48:46.146052Z"
    },
    "trusted": true
   },
   "execution_count": null,
   "outputs": []
  },
  {
   "cell_type": "code",
   "source": [
    "# *******************Stacking model*******************\n",
    "model_stack = StackingCVRegressor(regressors=(model_GBoost, model_xgb, model_lgb),\n",
    "                                meta_regressor=model_rf,\n",
    "                                use_features_in_secondary=True)\n",
    "score_stack = rmsle_cross_val(train_data_ensemble, np.log(train_data_rent), 5, model_stack)\n",
    "print(\"Stacked score: {:.4f} ({:.4f})\\n\".format(score_stack.mean(), score_stack.std()))\n",
    "# fitting stacked model\n",
    "model_stack.fit(train_data_ensemble.values, train_data_rent.values)\n",
    "model_stack_pred = model_stack.predict(test_data_ensemble.values)\n",
    "df_id = pd.DataFrame([id for id in range(test_data.shape[0])], columns=['Id'])\n",
    "df_pred = pd.DataFrame(pd.Series(model_stack_pred), columns = ['Predicted'])\n",
    "submission = pd.concat([df_id['Id'], df_pred['Predicted']], axis=1)\n",
    "# self_evaluation(submission)\n",
    "submission.to_csv('/kaggle/working/submission_stacked_rmsle'+str(float(score_stack.mean()))[:7]+'.csv', index=False)"
   ],
   "metadata": {
    "execution": {
     "iopub.status.busy": "2023-10-06T16:48:46.148927Z",
     "iopub.execute_input": "2023-10-06T16:48:46.150331Z",
     "iopub.status.idle": "2023-10-06T21:38:30.277651Z",
     "shell.execute_reply.started": "2023-10-06T16:48:46.150278Z",
     "shell.execute_reply": "2023-10-06T21:38:30.275338Z"
    },
    "trusted": true
   },
   "execution_count": null,
   "outputs": []
  },
  {
   "cell_type": "code",
   "source": [
    "# *******************Blend models/Weighting*******************\n",
    "def blended_predictions(X):\n",
    "    return ((0.05 * model_GBoost.predict(X)) + \\\n",
    "            (0.1 * model_xgb.predict(X)) + \\\n",
    "            (0.1 * model_lgb.predict(X)) + \\\n",
    "            (0.55 * model_RF.predict(X)) + \\\n",
    "            (0.2 * model_stack.predict(X)))\n",
    "\n",
    "model_blend_pred = blended_predictions(train_data_ensemble.values)\n",
    "score_blend = rmse(np.log(train_data_rent.values), np.log(model_blend_pred))\n",
    "print(score_blend)"
   ],
   "metadata": {
    "execution": {
     "iopub.status.busy": "2023-10-06T21:38:30.279760Z",
     "iopub.execute_input": "2023-10-06T21:38:30.280477Z",
     "iopub.status.idle": "2023-10-06T21:39:23.458815Z",
     "shell.execute_reply.started": "2023-10-06T21:38:30.280442Z",
     "shell.execute_reply": "2023-10-06T21:39:23.457632Z"
    },
    "trusted": true
   },
   "execution_count": null,
   "outputs": []
  },
  {
   "cell_type": "code",
   "source": [
    "model_blended_pred = blended_predictions(test_data_ensemble.values)\n",
    "df_id = pd.DataFrame([id for id in range(test_data.shape[0])], columns=['Id'])\n",
    "df_pred = pd.DataFrame(pd.Series(model_blended_pred), columns = ['Predicted'])\n",
    "submission = pd.concat([df_id['Id'], df_pred['Predicted']], axis=1)\n",
    "# self_evaluation(submission)\n",
    "submission.to_csv('/kaggle/working/submission_blended_rmsle'+str(score_blend)[:7]+'.csv', index=False)"
   ],
   "metadata": {
    "execution": {
     "iopub.status.busy": "2023-10-06T21:39:23.460706Z",
     "iopub.execute_input": "2023-10-06T21:39:23.461156Z",
     "iopub.status.idle": "2023-10-06T21:39:49.409897Z",
     "shell.execute_reply.started": "2023-10-06T21:39:23.461114Z",
     "shell.execute_reply": "2023-10-06T21:39:49.408671Z"
    },
    "trusted": true
   },
   "execution_count": null,
   "outputs": []
  }
 ]
}
